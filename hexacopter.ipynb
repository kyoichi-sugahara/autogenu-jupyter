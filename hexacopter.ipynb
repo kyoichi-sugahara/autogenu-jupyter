{
 "cells": [
  {
   "cell_type": "markdown",
   "metadata": {},
   "source": [
    "# AutoGenU for Jupyter\n",
    "\n",
    "An Automatic C++ Code Generator for Nonlinear Model Predictive Control (NMPC)  \n",
    "\n",
    "---  "
   ]
  },
  {
   "cell_type": "markdown",
   "metadata": {},
   "source": [
    "## Formulation of the optimal control problem: Hexacopter"
   ]
  },
  {
   "cell_type": "markdown",
   "metadata": {},
   "source": [
    "### Model description\n",
    "Let $(X, Y, Z)$ be a position of the center of the hexacopter in the world frame, $(\\phi, \\theta, \\psi)$ be the Euler angle of the hexacopter in the world frame, respectively. We assume that we can control the thrust of the each rotor directly. Thus, we assume that the $i$th control input $u_i$ is the thrust of the corresponding rotor. The equation of the motion is derived by the Newton-Euler equations as \n",
    "$$ \\begin{bmatrix} \\ddot{X} \\\\ \\ddot{Y} \\\\ \\ddot{Z} \\\\ \\ddot{\\phi} \\\\ \\ddot{\\theta} \\\\ \\ddot{\\psi} \\end{bmatrix} = \\begin{bmatrix} (\\cos{\\psi} \\sin{\\theta} \\cos{\\phi} + \\sin{\\psi} \\sin{\\phi}) \\frac{U_1}{m} \\\\ (\\sin{\\psi} \\sin{\\theta} \\cos{\\phi} - \\cos{\\psi} \\sin{\\phi}) \\frac{U_1}{m} \\\\ -g + (\\cos{\\theta} \\cos{\\phi}) \\frac{U_1}{m}  \\\\ \\frac{I_{YY} - I_{ZZ}}{I_{XX}} \\dot{\\theta} \\dot{\\psi} + \\frac{U_2}{I_{XX}} \\\\ \\frac{I_{ZZ} - I_{XX}}{I_{YY}} \\dot{\\psi} \\dot{\\phi} + \\frac{U_3}{I_{YY}} \\\\ \\frac{I_{XX} - I_{YY}}{I_{ZZ}} \\dot{\\phi} \\dot{\\theta} + \\frac{U_4}{I_{ZZ}} \\end{bmatrix} , $$\n",
    "where\n",
    "$$ U_1 = \\sum_{i=1}^{6} u_i ,$$\n",
    "$$ U_2 = l(-\\frac{u_1}{2} - u_2 - \\frac{u_3}{2} + \\frac{u_4}{2} + u_5 + \\frac{u_6}{2} ) ,$$\n",
    "$$ U_3 = l(- \\frac{\\sqrt{3}}{2} u_1 + \\frac{\\sqrt{3}}{2} u_3 + \\frac{\\sqrt{3}}{2} u_4 - \\frac{\\sqrt{3}}{2} u_6) , $$\n",
    "$$ U_4 = k(-u_1 + u_1 - u_2 + u_3 - u_4 + u_5) - \\gamma \\dot{\\psi} .$$\n",
    "We also assume that the thrust of the each rotor is limited as  \n",
    "$$u_{\\rm min} \\leq u_i \\leq u_{\\rm max} , i= 1, ..., 6,  $$\n",
    "where $u_{\\rm min}, u_{\\rm max} \\in \\mathbb{R}$.\n",
    "\n",
    "### Formulation of the optimal control problem\n",
    "We define the state vector as\n",
    "$$ x = \\begin{bmatrix} {X} & {Y} & {Z} & {\\phi} & {\\theta} & {\\psi} & \\dot{X} & \\dot{Y} & \\dot{Z} & \\dot{\\phi} & \\dot{\\theta} & \\dot{\\psi} \\end{bmatrix}^{\\rm T} .$$\n",
    "The state equation is then given as \n",
    "$$\\dot{x} = f(t, x, u) = \\begin{bmatrix} \\dot{X} \\\\ \\dot{Y} \\\\ \\dot{Z} \\\\ \\dot{\\phi} \\\\ \\dot{\\theta} \\\\ \\dot{\\psi} \\\\ (\\cos{\\psi} \\sin{\\theta} \\cos{\\phi} + \\sin{\\psi} \\sin{\\phi}) \\frac{U_1}{m} \\\\ (\\sin{\\psi} \\sin{\\theta} \\cos{\\phi} - \\cos{\\psi} \\sin{\\phi}) \\frac{U_1}{m} \\\\ -g + (\\cos{\\theta} \\cos{\\phi}) \\frac{U_1}{m}  \\\\ \\frac{I_{YY} - I_{ZZ}}{I_{XX}} \\dot{\\theta} \\dot{\\psi} + \\frac{U_2}{I_{XX}} \\\\ \\frac{I_{ZZ} - I_{XX}}{I_{YY}} \\dot{\\psi} \\dot{\\phi} + \\frac{U_3}{I_{YY}} \\\\ \\frac{I_{XX} - I_{YY}}{I_{ZZ}} \\dot{\\phi} \\dot{\\theta} + \\frac{U_4}{I_{ZZ}} \\end{bmatrix} .$$\n",
    "Next, we design the cost function \n",
    "$$ J = \\varphi(t, x) + \\int_{t}^{t+T} L(t, x, u) .$$\n",
    "The objective is to make the hexacopter track a reference trajectory. We assume that the reference trajectory is given as \n",
    "$$ p_{\\rm ref} (t) := \\begin{bmatrix} X_{\\rm ref} (t) \\\\ Y_{\\rm ref} (t) \\\\ Z_{\\rm ref} (t) \\end{bmatrix} = \\begin{bmatrix} \\sin{2t} \\\\ 1-\\cos{2t} \\\\ z_0 + 2 \\sin{t} \\end{bmatrix} , $$\n",
    "where $z_0$ is a positive real constant. We define a time-dependent vector valued function\n",
    "$$ x_{\\rm ref} (t) := \\begin{bmatrix} p_{\\rm ref} (t) \\\\ \\dot{p}_{\\rm ref} (t) \\\\ 0_3 \\\\ 0_3 \\end{bmatrix} , $$\n",
    "where $0_3$ is a 3-dimensional zero vector. To make the hexacopter track $p_{\\rm ref}$, we set the terminal cost as\n",
    "$$\\varphi(t,x) = \\frac{1}{2} (x - x_{\\rm ref}(t))^{\\rm T} Q_{\\rm terminal} (x - x_{\\rm ref}(t)) ,$$  \n",
    "where $Q_{\\rm terminal} = {\\rm diag}\\left\\{ {q_{\\rm terminal}}_1, ... ,{q_{\\rm terminal}}_{12} \\right\\}$ and ${q_{\\rm terminal}}_1, ..., {q_{\\rm terminal}}_{12}$ are positive real constants. We also set the stage cost as  \n",
    "$$L(t, x, u) = \\frac{1}{2} (x - x_{\\rm ref}(t))^{\\rm T} Q (x - x_{\\rm ref}) + \\frac{1}{2} (u - u_{\\rm ref}(t))^{\\rm T} R (x - u_{\\rm ref}),$$  \n",
    "where $Q = {\\rm diag} \\left\\{ q_1, ..., q_{12} \\right\\}$ with positive real constants $q_1, ..., q_{12}$, $R = {\\rm diag} \\left\\{ r_1, ..., r_{6} \\right\\}$ with positive real constants $r_1, ..., r_{6}$, $u_{\\rm ref} \\in \\mathbb{R}^6$ is given by\n",
    "$$ u_{\\rm ref} := \\begin{bmatrix} \\frac{mg}{6} \\\\ \\frac{mg}{6} \\\\ \\frac{mg}{6} \\\\ \\frac{mg}{6} \\\\ \\frac{mg}{6} \\\\ \\frac{mg}{6} \\end{bmatrix} .$$\n",
    "\n",
    "### Reference\n",
    "The derivative of the model of the hexacopter is reference to [1] and [2]. The paremeters of the hexacopter in the following numerical simulation are based on [1].\n",
    "1. [Y. Aoki et.al., Nonlinear Model Predictive Control of Position and Attitude in a Hexacopter with Three Failed Rotors, IFAC-PapersOnLine, Vol. 51, No. 20, pp. 228-233 (2018)](https://doi.org/10.1016/j.ifacol.2018.11.018)\n",
    "2. [M. Moussid et.al., Dynamic Modeling and Control of a HexaRotor using Linear and Nonlinear Methods, International Journal of Applied Information Systems, Vol. 9, No. 5, pp. 9-17 (2015)](https://doi.org/10.5120/ijais2015451411)"
   ]
  },
  {
   "cell_type": "markdown",
   "metadata": {},
   "source": [
    "---\n",
    "\n",
    "# Generate C++ code for optimal control problem (OCP)"
   ]
  },
  {
   "cell_type": "markdown",
   "metadata": {},
   "source": [
    "## Import modules"
   ]
  },
  {
   "cell_type": "code",
   "execution_count": null,
   "metadata": {},
   "outputs": [],
   "source": [
    "import autogenu"
   ]
  },
  {
   "cell_type": "markdown",
   "metadata": {},
   "source": [
    "## Set dimensions and define `AutoGenU`\n",
    "- `nx`: Dimension of the state vector $x$   \n",
    "- `nu`: Dimension of the control input vector $u$  \n",
    "- `ocp_name`: Name of the optimal control problem (OCP). Used as the name of the directory containing the generated C++ source files."
   ]
  },
  {
   "cell_type": "code",
   "execution_count": null,
   "metadata": {},
   "outputs": [],
   "source": [
    "nx = 12\n",
    "nu = 6\n",
    "ocp_name = 'hexacopter'\n",
    "ag = autogenu.AutoGenU(ocp_name, nx, nu)"
   ]
  },
  {
   "cell_type": "markdown",
   "metadata": {},
   "source": [
    "## Generate t, x, and u, necessary variables to formulate of the optimal control problem\n",
    "- `t`: Time parameter $t$  \n",
    "- `x`: The state vector $x$  \n",
    "- `u`: The control input vector $u$  "
   ]
  },
  {
   "cell_type": "code",
   "execution_count": null,
   "metadata": {},
   "outputs": [],
   "source": [
    "t = ag.define_t()\n",
    "x = ag.define_x()\n",
    "u = ag.define_u()"
   ]
  },
  {
   "cell_type": "markdown",
   "metadata": {},
   "source": [
    "## Define variables used in the state equation, constraints, and cost function\n",
    "- Define a scalar variable whose name is \"var\" as  \n",
    "`var = ag.define_scalar_var('var') `\n",
    "\n",
    "- Define scalar variables whose names are \"var\\_1\", \"var\\_2\", ..., \"var\\_n\" as  \n",
    "`var_1, var_2, ..., var_n = ag.define_scalar_vars('var_1', 'var_2', ..., 'var_n')`\n",
    "\n",
    "- Define array variables whose name is \"vec\" and dimension is dim_vec as  \n",
    "`vec = ag.define_array_var('vec', dim_vec)`"
   ]
  },
  {
   "cell_type": "code",
   "execution_count": null,
   "metadata": {},
   "outputs": [],
   "source": [
    "# Variables used in the state function and cost function\n",
    "m, l, k, Ixx, Iyy, Izz, gamma, g = ag.define_scalar_vars('m', 'l', 'k', 'Ixx', 'Iyy', 'Izz', 'gamma', 'g')\n",
    "\n",
    "# Variables used in the cost function\n",
    "z_ref = ag.define_scalar_var('z_ref')\n",
    "q = ag.define_array_var('q', nx)\n",
    "q_terminal = ag.define_array_var('q_terminal', nx)\n",
    "r = ag.define_array_var('r', nu)"
   ]
  },
  {
   "cell_type": "markdown",
   "metadata": {},
   "source": [
    "## Define the state equation, constraints, the stage cost, and the terminal cost\n",
    "- `f`: The state equation $ f(t, x, u)$  \n",
    "- `C`: The equality constraints $C(t, x, u) = 0 $  \n",
    "- `h`: The inequality constraints $h(t, x, u) \\leq 0$ considered by semi-smooth Fischer-Burumeister method  \n",
    "- `L`: The stage cost $L(t, x, u)$  \n",
    "- `phi`: The terminal cost $\\phi (t, x)$  \n",
    "\n",
    "Note: array indices start with 0"
   ]
  },
  {
   "cell_type": "code",
   "execution_count": null,
   "metadata": {},
   "outputs": [],
   "source": [
    "# Import symbolic math from sympy. If you need more functions, import same as below.\n",
    "from sympy import sin, cos, tan, exp, log, ln, sinh, cosh, tanh, diff, sqrt"
   ]
  },
  {
   "cell_type": "code",
   "execution_count": null,
   "metadata": {},
   "outputs": [],
   "source": [
    "# Time-variant reference trajectory\n",
    "xyz_ref = [sin(2*t), (1-cos(2*t)), z_ref + 2*sin(t)]\n",
    "xyz_ref_diff = [diff(xyz_ref[i], t) for i in range(len(xyz_ref))]\n",
    "\n",
    "\n",
    "# propeller's input transformation\n",
    "U1 = sum(u[i] for i in range(nu))\n",
    "U2 = l*(-u[0]/2 - u[1] - u[2]/2 + u[3]/2 + u[4]+ u[5]/2)\n",
    "U3 = l*(-(sqrt(3)/2)*u[0] + (sqrt(3)/2)*u[2] + (sqrt(3)/2)*u[3] - (sqrt(3)/2)*u[5])\n",
    "U4 = k*(-u[0] + u[1] - u[2] + u[3] - u[4] + u[5]) - gamma * x[11]\n",
    "\n",
    "# Define the state equation\n",
    "f = [x[6],\n",
    "     x[7],\n",
    "     x[8],\n",
    "     x[9],\n",
    "     x[10],\n",
    "     x[11],\n",
    "     (cos(x[5])*sin(x[4])*cos(x[3]) + sin(x[5])*sin(x[3]))*U1/m,\n",
    "     (sin(x[5])*sin(x[4])*cos(x[3]) - cos(x[5])*sin(x[3]))*U1/m,\n",
    "      -g + (cos(x[3])*cos(x[4]))*U1/m,\n",
    "     ((Iyy-Izz)/Ixx)*x[10]*x[11] + U2/Ixx,\n",
    "     ((Izz-Ixx)/Iyy)*x[9]*x[11] + U3/Iyy,\n",
    "     ((Ixx-Iyy)/Izz)*x[9]*x[10] + U4/Izz]\n",
    "\n",
    "# Define the constraints (if nc > 0)\n",
    "C = []\n",
    "\n",
    "# Define the inequality constraints h(x, u) <= 0 (if nh > 0) considered using the semi-smooth Fischer-Burmeister method\n",
    "h = []\n",
    "\n",
    "# Define the stage cost\n",
    "u_ref = (m*g)/6\n",
    "L = sum((q[i]*(x[i]-xyz_ref[i])**2)/2 for i in range(3)) + sum((q[i]*x[i]**2)/2 for i in range(3, 6))+ sum((q[i+6]*(x[i+6]-xyz_ref_diff[i])**2)/2 for i in range(3)) + sum((q[i]*x[i]**2)/2 for i in range(9, 12)) + sum(r[i] * (u[i]-u_ref)**2 for i in range(nu))/2  \n",
    "\n",
    "# Define the terminal cost\n",
    "phi = sum((q_terminal[i]*(x[i]-xyz_ref[i])**2)/2 for i in range(3)) + sum((q_terminal[i]*x[i]**2)/2 for i in range(3, 6))+ sum((q_terminal[i+6]*(x[i+6]-xyz_ref_diff[i])**2)/2 for i in range(3)) + sum((q_terminal[i]*x[i]**2)/2 for i in range(9, 12))"
   ]
  },
  {
   "cell_type": "code",
   "execution_count": null,
   "metadata": {},
   "outputs": [],
   "source": [
    "# Set functions\n",
    "ag.set_functions(f, C, h, L, phi)"
   ]
  },
  {
   "cell_type": "markdown",
   "metadata": {},
   "source": [
    "## Define the control input bound constraints\n",
    "The box constraints on the control input $u_{\\rm min} \\leq u \\leq u_{\\rm max}$ are treated in a special manner.\n",
    "Specifically, it is transformed into $$u^2 + u_{\\rm dummy}^2 - (\\frac{u_{\\rm max} - u_{\\rm min}}{2})^2 = 0$$.  \n",
    "Further, $u_{\\rm dummy}$ and associated Lagrange multiplier are eliminated in Newton-type iteration efficiently in the multiple-shooting solver.  \n",
    "Set such box constraints by specifying\n",
    "- `uindex`: index of the constrained control input element\n",
    "- `umin`: Minimum value (lower bound) of the control input element\n",
    "- `umax`: Maximum value (upper bound) of the control input element\n",
    "- `dummy_weight`: Weight parameter of the dummy (slack) variable"
   ]
  },
  {
   "cell_type": "code",
   "execution_count": null,
   "metadata": {},
   "outputs": [],
   "source": [
    "for uindex in range(nu):\n",
    "    ag.add_control_input_bounds(uindex=uindex, umin=0.144, umax=6.0, dummy_weight=0.1)"
   ]
  },
  {
   "cell_type": "markdown",
   "metadata": {},
   "source": [
    "## Set Parameters\n",
    "Set values for all parameters you defined.\n",
    "- Set `value` for a scalar variable whose name is \"var\" as  \n",
    "`ag.set_scalar_var('var', value) `\n",
    "\n",
    "- Set `value_1`, `value_2`, ..., `value_n`, for scalar variables whose names are \"var\\_1\", \"var\\_2\", ..., \"var\\_n\" as  \n",
    "`ag.set_scalar_vars(['var_1', value_1], ['var_2', value_2], ..., ['var_n', value_n])`\n",
    "\n",
    "- Set array variables `var_1`, `var_2`, ..., `var_n` whose name is \"vec\" and dimension is n as  \n",
    "`ag.define_array_var('vec', [var_1, var_2, ..., var_n])`"
   ]
  },
  {
   "cell_type": "code",
   "execution_count": null,
   "metadata": {},
   "outputs": [],
   "source": [
    "ag.set_scalar_vars(['m', 1.44], ['l', 0.23], ['k', 1.6e-09],  \n",
    "                   ['Ixx', 0.0348], ['Iyy', 0.0459], ['Izz', 0.0977], \n",
    "                   ['gamma', 0.01], ['g', 9.80665], ['z_ref', 5])\n",
    "ag.set_array_var('q', [1, 1, 1, 0.01, 0.01, 0, 0.01, 0.01, 0.01, 0.1, 0.1, 0.001])\n",
    "ag.set_array_var('r', [0.01, 0.01, 0.01, 0.01, 0.01, 0.01])\n",
    "ag.set_array_var('q_terminal', [1, 1, 1, 0.01, 0.01, 0, 0.01, 0.01, 0.01, 0.1, 0.1, 0.001])"
   ]
  },
  {
   "cell_type": "markdown",
   "metadata": {},
   "source": [
    "## Generate C++ codes of the definition of the optimal control problem\n",
    "Generate `ocp.hpp` that defines the optimal control problem (OCP).  \n",
    "- `simplification`: The flag for simplification. If `True`, symbolic functions are simplified. However, if functions are too complicated, it takes too much time. Default is `False`.  \n",
    "- `common_subexpression_elimination`: The flag for common subexpression elimination. If `True`, common subexpressions in fxu, phix, hx, and hu are eliminated when `ocp.hpp` is generated. Default is `False`. "
   ]
  },
  {
   "cell_type": "code",
   "execution_count": null,
   "metadata": {},
   "outputs": [],
   "source": [
    "simplification = False\n",
    "common_subexpression_elimination = True\n",
    "\n",
    "ag.generate_ocp_definition(simplification, common_subexpression_elimination)"
   ]
  },
  {
   "cell_type": "markdown",
   "metadata": {},
   "source": [
    "---  \n",
    "# Generate C++ codes of NMPC solver and numerical simulation  "
   ]
  },
  {
   "cell_type": "markdown",
   "metadata": {},
   "source": [
    "## Set NLP type  \n",
    "Set which NLP formulation you use. (hint: `MultipleShooting` works better for typical nonlinear problems.)\n",
    "- `MultipleShooting` (recommended) : The multiple shooting based C/GMRES method with condensing of the state and the Lagrange multipliers with respect to the state equation.\n",
    "- `SingleShooting` : The single shooting method, i.e., the original C/GMRES method."
   ]
  },
  {
   "cell_type": "code",
   "execution_count": null,
   "metadata": {},
   "outputs": [],
   "source": [
    "nlp_type = autogenu.NLPType.MultipleShooting\n",
    "ag.set_nlp_type(nlp_type)"
   ]
  },
  {
   "cell_type": "markdown",
   "metadata": {},
   "source": [
    "## Set horizon length \n",
    "\n",
    "- `Tf`, `alpha`: Parameters for the length of the horizon. If $\\alpha > 0$, time-varying horizon length $T(t) = T_f (1 - e^{-\\alpha t})$ is used. Otherwise, $T(t)$ is fixed by $T_f$. "
   ]
  },
  {
   "cell_type": "code",
   "execution_count": null,
   "metadata": {},
   "outputs": [],
   "source": [
    "Tf = 1.0\n",
    "alpha = 1.0\n",
    "\n",
    "ag.set_horizon_params(Tf, alpha)"
   ]
  },
  {
   "cell_type": "markdown",
   "metadata": {},
   "source": [
    "## Set parameters for the C/GMRES method\n",
    "\n",
    "- `sampling_time`: Sampling period.\n",
    "- `N`: The number of the discretization grids of the horizon.  \n",
    "- `finite_difference_epsilon`: Step length of a finite difference approximations of hessian-vector products in C/GMRES.   \n",
    "- `zeta`: A stabilization parameter of the C/GMRES method. Basically, must be set by the reciprocal of the sampling time.  \n",
    "- `kmax`: The maximum number of the iteration of the GMRES."
   ]
  },
  {
   "cell_type": "code",
   "execution_count": null,
   "metadata": {
    "code_folding": []
   },
   "outputs": [],
   "source": [
    "sampling_time = 0.001\n",
    "N = 50\n",
    "finite_difference_epsilon = 1.0e-08\n",
    "zeta = 1000  \n",
    "kmax = 5\n",
    "\n",
    "ag.set_solver_params(sampling_time, N, finite_difference_epsilon, zeta, kmax)"
   ]
  },
  {
   "cell_type": "markdown",
   "metadata": {},
   "source": [
    "## Set parameters for the initialization of the solution  \n",
    "- `solution_initial_guess`: The initial guess of the solution of the optimal control problem (OCP) for initialization of the solution of NMPC.   \n",
    "- `tolerance`: The residual tolerance of the solution of the OCP for the initialization of the solution of NMPC. The Newton iteration terminates when the optimality error is less than this value.  \n",
    "- `max_iterations`: The maximum number of Newton iteration for the initialization of the solution of NMPC.  "
   ]
  },
  {
   "cell_type": "code",
   "execution_count": null,
   "metadata": {},
   "outputs": [],
   "source": [
    "u_ref = 1.44 * 9.80665 / 6. # (m*g)/6\n",
    "solution_initial_guess = [u_ref, u_ref, u_ref, u_ref, u_ref, u_ref]\n",
    "tolerance = 1.0e-06\n",
    "max_iterations = 0 # avoid failure in initialization\n",
    "\n",
    "ag.set_initialization_params(solution_initial_guess, tolerance, max_iterations)"
   ]
  },
  {
   "cell_type": "markdown",
   "metadata": {},
   "source": [
    "## Set parameters for numerical simulation\n",
    "- `initial_time`: Initial time of the numerical simulation.  \n",
    "- `initial_state`: Initial state vector of the system.  \n",
    "- `simulation_length`: Simulation length.  "
   ]
  },
  {
   "cell_type": "code",
   "execution_count": null,
   "metadata": {},
   "outputs": [],
   "source": [
    "initial_time = 0  \n",
    "initial_state = [0, 0, 0, 0, 0, 0, 0, 0, 0, 0, 0, 0]  \n",
    "simulation_length = 10\n",
    "\n",
    "ag.set_simulation_params(initial_time, initial_state, simulation_length) "
   ]
  },
  {
   "cell_type": "markdown",
   "metadata": {},
   "source": [
    "## Generate main.cpp and CMakeLists.txt"
   ]
  },
  {
   "cell_type": "code",
   "execution_count": null,
   "metadata": {
    "scrolled": true
   },
   "outputs": [],
   "source": [
    "ag.generate_main()\n",
    "ag.generate_cmake()"
   ]
  },
  {
   "cell_type": "markdown",
   "metadata": {},
   "source": [
    "## Build and run simulation\n",
    "\n",
    "- `generator`: An optional variable for Windows user to choose the generator of CMake. If 'MSYS', then 'MSYS Makefiles' is used. If 'MinGW', then 'MinGW Makefiles' is used. The default value is 'Auto' and the generator is selected automatically. If sh.exe exists in your PATH, MSYS is chosen, and otherwise MinGW is used. \n",
    "- `vectorize` : If `True`, the vectorization, i.e., `-march=native` compile option is enabled. This can improve speed while can cause numerical issue depending on the compiler.  \n",
    "- `remove_build_dir`: If `True`, the existing build directory is removed. If `False`, the build directory is not removed. Need to be set `True` if you change the generator. Default is `False`."
   ]
  },
  {
   "cell_type": "code",
   "execution_count": null,
   "metadata": {},
   "outputs": [],
   "source": [
    "generator = 'Auto'  \n",
    "vectorize = False\n",
    "remove_build_dir = False\n",
    "ag.git_submodule_update()\n",
    "ag.build_main(generator=generator, vectorize=vectorize, remove_build_dir=remove_build_dir)\n",
    "ag.run_simulation()"
   ]
  },
  {
   "cell_type": "markdown",
   "metadata": {},
   "source": [
    "## Plot the simulation results"
   ]
  },
  {
   "cell_type": "code",
   "execution_count": null,
   "metadata": {},
   "outputs": [],
   "source": [
    "%matplotlib inline"
   ]
  },
  {
   "cell_type": "code",
   "execution_count": null,
   "metadata": {},
   "outputs": [],
   "source": [
    "plotter = autogenu.Plotter(log_dir=ag.get_ocp_log_dir(), log_name=ag.get_ocp_name())\n",
    "plotter.set_scales(2,5,2)\n",
    "# plotter.show()\n",
    "plotter.save()"
   ]
  },
  {
   "cell_type": "markdown",
   "metadata": {},
   "source": [
    "## Draw animations of the simulation results"
   ]
  },
  {
   "cell_type": "code",
   "execution_count": null,
   "metadata": {},
   "outputs": [],
   "source": [
    "# anim = autogenu.Hexacopter(log_dir=ag.get_ocp_log_dir(), log_name=ag.get_ocp_name())\n",
    "# anim.set_skip_frames(10)\n",
    "# anim.generate_animation()"
   ]
  },
  {
   "cell_type": "markdown",
   "metadata": {},
   "source": [
    "## Build Python interface\n",
    "\n",
    "- `generator`: An optional variable for Windows user to choose the generator of CMake. If 'MSYS', then 'MSYS Makefiles' is used. If 'MinGW', then 'MinGW Makefiles' is used. The default value is 'Auto' and the generator is selected automatically. If sh.exe exists in your PATH, MSYS is chosen, and otherwise MinGW is used. \n",
    "- `vectorize` : If `True`, the vectorization, i.e., `-march=native` compile option is enabled. This can improve speed while can cause numerical issue depending on the compiler.  \n",
    "- `remove_build_dir`: If `True`, the existing build directory is removed. If `False`, the build directory is not removed. Need to be set `True` if you change the generator. Default is `False`."
   ]
  },
  {
   "cell_type": "code",
   "execution_count": null,
   "metadata": {},
   "outputs": [],
   "source": [
    "generator = 'Auto'  \n",
    "vectorize = False\n",
    "remove_build_dir = False\n",
    "ag.generate_python_bindings()\n",
    "ag.git_submodule_update()\n",
    "ag.build_python_interface(generator=generator, vectorize=vectorize, remove_build_dir=remove_build_dir)"
   ]
  },
  {
   "cell_type": "markdown",
   "metadata": {},
   "source": [
    "## Install Python interface\n",
    "\n",
    "- `install_prefix` : Prefix of the install destination of the python interfaces. Default is None.\n",
    "    -  If this is None (default), then it is `~/.local/lib/python3.x` (`python3.x` is your Python version). \n",
    "        - If you use Ubuntu, `~/.local/lib/python3.x` is the default Python path, and you do not need to set `PYTHONPATH` additionally.  \n",
    "        - If you use MacOSX or Windows, add it to the Python PATH, as `export PYTHONPATH=$PYTHONPATH:$HOME/.local/lib/python3.x/site-packages`\n",
    "\n",
    "The usage of Python interfaces is introduced in `examples/python` directory."
   ]
  },
  {
   "cell_type": "markdown",
   "metadata": {},
   "source": [
    "ag.install_python_interface(install_prefix=None)"
   ]
  },
  {
   "cell_type": "markdown",
   "metadata": {},
   "source": [
    "## Generate Documentation\n",
    "The documentations for the generated code are available.  \n",
    "`Doxygen` is required for the docs generation."
   ]
  },
  {
   "cell_type": "code",
   "execution_count": null,
   "metadata": {},
   "outputs": [],
   "source": [
    "# autogenu.generate_docs()\n",
    "# autogenu.open_docs()"
   ]
  }
 ],
 "metadata": {
  "kernelspec": {
   "display_name": "Python 3",
   "language": "python",
   "name": "python3"
  },
  "language_info": {
   "codemirror_mode": {
    "name": "ipython",
    "version": 3
   },
   "file_extension": ".py",
   "mimetype": "text/x-python",
   "name": "python",
   "nbconvert_exporter": "python",
   "pygments_lexer": "ipython3",
   "version": "3.8.10"
  },
  "toc": {
   "base_numbering": 1,
   "nav_menu": {},
   "number_sections": true,
   "sideBar": true,
   "skip_h1_title": false,
   "title_cell": "Table of Contents",
   "title_sidebar": "Contents",
   "toc_cell": false,
   "toc_position": {},
   "toc_section_display": true,
   "toc_window_display": false
  },
  "vscode": {
   "interpreter": {
    "hash": "916dbcbb3f70747c44a77c7bcd40155683ae19c65e1c03b4aa3499c5328201f1"
   }
  }
 },
 "nbformat": 4,
 "nbformat_minor": 4
}
