{
 "cells": [
  {
   "cell_type": "code",
   "execution_count": 55,
   "metadata": {},
   "outputs": [],
   "source": [
    "import pickle\n",
    "import sympy\n",
    "import pandas as pd\n",
    "import sys\n",
    "sys.path.append('../../')\n",
    "import cartpole_error_monitoring\n",
    "\n",
    "def load_from_file(filename):\n",
    "    with open(filename, 'rb') as f:\n",
    "        data = pickle.load(f)\n",
    "        F = data['F']\n",
    "        lmd_time_series = data['lmd_time_series']\n",
    "        state_time_series = data['state_time_series']\n",
    "    return F, lmd_time_series, state_time_series\n",
    "\n",
    "F, lmd_time_series, state_time_series = load_from_file('symbolic_F.pkl')\n"
   ]
  },
  {
   "cell_type": "code",
   "execution_count": 56,
   "metadata": {},
   "outputs": [
    {
     "name": "stdout",
     "output_type": "stream",
     "text": [
      "[u0_1, x_ref[0], q[3], x0, m_c, m_p, g, q_terminal[2], q[2], x3, x1, x_ref[3], q[1], q_terminal[1], u0_0, x_ref[2], x_ref[1], u0_2, q_terminal[3], q_terminal[0], r[0], q[0], l, x2]\n",
      "[x0]\n",
      "[x0, x2]\n",
      "[x0, u0_0, m_c, m_p, g, x1, l, x2]\n",
      "[x1]\n",
      "[x3, x1]\n",
      "[m_c, m_p, g, x3, u0_0, x1, l]\n",
      "[x2]\n",
      "[m_c, m_p, g, u0_0, x1, l, x2]\n",
      "[u0_1, u0_0, m_c, m_p, g, x3, x1, l, x2]\n",
      "[x3]\n",
      "[m_c, m_p, g, x3, u0_0, x1, l]\n",
      "[u0_1, u0_0, m_c, m_p, g, x3, x1, l]\n",
      "[x_ref[0], x0, u0_0, m_c, m_p, g, q[0], q_terminal[0], x1, l, x2]\n",
      "[x_ref[0], x0, u0_0, m_c, m_p, g, q[0], q_terminal[0], x1, l, x2]\n",
      "[x_ref[0], x0, u0_0, m_c, m_p, g, q_terminal[0], x1, l, x2]\n",
      "[u0_1, x_ref[0], q[3], x0, m_c, m_p, g, q_terminal[2], q[2], x3, x1, x_ref[3], q[1], q_terminal[1], u0_0, x_ref[2], x_ref[1], u0_2, q_terminal[3], q_terminal[0], l, x2]\n",
      "[u0_1, m_c, m_p, g, q_terminal[2], x3, x1, x_ref[3], q[1], q_terminal[1], u0_0, x_ref[2], x_ref[1], u0_2, q_terminal[3], l, x2]\n",
      "[q_terminal[1], u0_0, m_c, x_ref[1], m_p, g, x3, x1, l]\n",
      "[u0_1, x_ref[0], x0, m_c, m_p, g, q_terminal[2], q[2], x3, x1, u0_0, x_ref[2], q_terminal[0], q[0], l, x2]\n",
      "[u0_1, x_ref[0], x0, u0_0, q_terminal[0], x_ref[2], m_c, m_p, g, q_terminal[2], q[2], x3, x1, l, x2]\n",
      "[u0_1, u0_0, x_ref[2], m_c, m_p, g, q_terminal[2], x3, x1, l, x2]\n",
      "[u0_1, q[3], m_c, m_p, g, q_terminal[2], x3, x1, x_ref[3], q[1], q_terminal[1], u0_0, x_ref[2], x_ref[1], u0_2, q_terminal[3], l, x2]\n",
      "[x_ref[3], u0_1, q[3], q_terminal[1], u0_0, m_c, x_ref[1], m_p, g, q_terminal[3], x3, x1, l]\n",
      "[x_ref[3], u0_1, u0_0, m_c, m_p, g, q_terminal[3], x3, x1, l]\n"
     ]
    }
   ],
   "source": [
    "for i in range(F.shape[1]):\n",
    "    variables = set()\n",
    "    matrix = F[i,0]\n",
    "    variables.update(matrix.free_symbols)\n",
    "    print(list(variables))\n",
    "\n",
    "for i in range(state_time_series.shape[0]):\n",
    "    for j in range(state_time_series.shape[1]):\n",
    "        variables = set()\n",
    "        matrix = state_time_series[i,j]\n",
    "        variables.update(matrix.free_symbols)\n",
    "        print(list(variables))\n",
    "\n",
    "for i in range(lmd_time_series.shape[0]):\n",
    "    for j in range(lmd_time_series.shape[1]):\n",
    "        variables = set()\n",
    "        matrix = lmd_time_series[i,j]\n",
    "        variables.update(matrix.free_symbols)\n",
    "        print(list(variables))\n"
   ]
  },
  {
   "cell_type": "code",
   "execution_count": 57,
   "metadata": {},
   "outputs": [
    {
     "data": {
      "text/plain": [
       "10000"
      ]
     },
     "execution_count": 57,
     "metadata": {},
     "output_type": "execute_result"
    }
   ],
   "source": [
    "# 読み込みたいファイル名のリスト\n",
    "filenames = ['generated_code_uopt.log', 'generated_code_x.log']\n",
    "\n",
    "# 各ファイルを読み込み、その結果をリストに保存します\n",
    "df_list = [pd.read_csv(filename, delim_whitespace=True, header=None) for filename in filenames]\n",
    "\n",
    "# 各データフレームをnumpyの行列に変換し、それをリストに保存します\n",
    "u_matrix, x_matrix = [df.values for df in df_list]\n",
    "x_matrix[k,:]\n",
    "x_matrix.shape[0]\n"
   ]
  },
  {
   "cell_type": "code",
   "execution_count": 58,
   "metadata": {},
   "outputs": [
    {
     "name": "stdout",
     "output_type": "stream",
     "text": [
      "simulation step: 10000\n",
      "0\n",
      "50\n"
     ]
    },
    {
     "data": {
      "text/plain": [
       "[<matplotlib.lines.Line2D at 0x7f5274006a40>]"
      ]
     },
     "execution_count": 58,
     "metadata": {},
     "output_type": "execute_result"
    },
    {
     "data": {
      "image/png": "[encoded data removed]",
      "text/plain": [
       "<Figure size 640x480 with 1 Axes>"
      ]
     },
     "metadata": {},
     "output_type": "display_data"
    }
   ],
   "source": [
    "from math import sqrt\n",
    "\n",
    "from matplotlib import pyplot as plt\n",
    "\n",
    "\n",
    "config = {\n",
    "    \"nx\": 4,  # Number of states\n",
    "    \"nu\": 1,  # Number of control inputs\n",
    "    \"ocp_name\": \"generated_code\",  # Name of the optimal control problem\n",
    "    \"Tf\": 2.0,  # Time horizon for the optimal control problem\n",
    "    \"alpha\": 0.0,  # Soft horizon parameter\n",
    "    \"sampling_time\": 0.001,  # Sampling time for the discrete-time optimal control problem\n",
    "    \"N\": 3,  # Number of discretized intervals\n",
    "    \"finite_difference_epsilon\": 1.0e-08,  # Epsilon for finite difference approximations\n",
    "    \"zeta\": 1000,  # Penalty parameter\n",
    "    \"kmax\": 5,  # Maximum number of iterations for the semi-smooth Newton method\n",
    "    \"initial_time\": 0,  # Initial time for the simulation\n",
    "    \"initial_state\": [0, 0, 0, 0],  # Initial state for the simulation\n",
    "    \"simulation_length\": 10,  # Length of the simulation in seconds\n",
    "    \"solution_initial_guess\": [\n",
    "        0.01\n",
    "    ],  # Initial guess for the optimal control problem solution\n",
    "    \"tolerance\": 1.0e-06,  # Tolerance for the optimal control problem solution\n",
    "    \"max_iterations\": 50,  # Maximum number of iterations for the optimal control problem solution\n",
    "}\n",
    "\n",
    "# Create and configure the AutoGenU object\n",
    "auto_gen_u = cartpole_error_monitoring.create_autogenu_object(config)\n",
    "cartpole_error_monitoring.set_parameters(auto_gen_u, config)\n",
    "\n",
    "\n",
    "[\"m_c\", 2], [\"m_p\", 0.2], [\"l\", 0.5], [\"g\", 9.80665]\n",
    "x = sympy.Matrix(sympy.symbols(f'x0:{config[\"nx\"]}'))  # Initial state as variables\n",
    "u = sympy.Matrix([sympy.symbols(f'u{i}_{j}') for i in range(config[\"nu\"]) for j in range(config[\"N\"])]).reshape(config[\"nu\"], config[\"N\"])\n",
    "r = sympy.symbols('r[0:%d]' %(config[\"nu\"]))\n",
    "q_terminal = sympy.symbols('q_terminal[0:%d]' %(config[\"nx\"]))\n",
    "q = sympy.symbols('q[0:%d]' %(config[\"nx\"]))\n",
    "x_ref = sympy.symbols('x_ref[0:%d]' %(config[\"nx\"]))\n",
    "\n",
    "\n",
    "sub_param = auto_gen_u.make_subs_dicts()\n",
    "\n",
    "# Create a list to store the L2 norms\n",
    "l2_norms = []\n",
    "\n",
    "simulation_steps = int(config[\"simulation_length\"]/config[\"sampling_time\"])\n",
    "print(\"simulation step:\", simulation_steps)\n",
    "\n",
    "# for k in range(int(config[\"simulation_length\"]/config[\"sampling_time\"])):\n",
    "for k in range(100):\n",
    "    # Create the substitutions for the state and input at the current time step\n",
    "    subs_x = [(x[l], x_matrix[k,l]) for l in range(config[\"nx\"])]\n",
    "    subs_u = [(u[l], u_matrix[k,l]) for l in range(config[\"N\"])]\n",
    "\n",
    "    # Loop over the control inputs\n",
    "    norm = 0\n",
    "    for i in range(config[\"N\"]):\n",
    "        for j in range(config[\"nu\"]):\n",
    "            # Calculate the squared L2 norm of F\n",
    "            F_val = F[i,j].subs(sub_param).subs(subs_x).subs(subs_u)\n",
    "            norm += F_val**2\n",
    "    \n",
    "    if k%50 == 0:\n",
    "        print(k)\n",
    "    # Append the square root of the norm (i.e., the L2 norm) to the list\n",
    "    l2_norms.append(sqrt(norm))\n",
    "\n",
    "\n",
    "# Plot the L2 norm of F\n",
    "plt.plot(l2_norms)"
   ]
  }
 ],
 "metadata": {
  "kernelspec": {
   "display_name": "Python 3",
   "language": "python",
   "name": "python3"
  },
  "language_info": {
   "codemirror_mode": {
    "name": "ipython",
    "version": 3
   },
   "file_extension": ".py",
   "mimetype": "text/x-python",
   "name": "python",
   "nbconvert_exporter": "python",
   "pygments_lexer": "ipython3",
   "version": "3.10.6"
  },
  "orig_nbformat": 4
 },
 "nbformat": 4,
 "nbformat_minor": 2
}
