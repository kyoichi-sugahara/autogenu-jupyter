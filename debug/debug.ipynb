{
 "cells": [
  {
   "cell_type": "code",
   "execution_count": null,
   "metadata": {},
   "outputs": [],
   "source": [
    "import os\n",
    "\n",
    "def find_latest_cgmres_directory(directory):\n",
    "    # List all files/directories within the specified directory\n",
    "    directories = os.listdir(directory)\n",
    "\n",
    "    # Filter directories that start with 'cgmres_debug_'\n",
    "    cgmres_dirs = [\n",
    "        d for d in directories\n",
    "        if d.startswith(\"cgmres_debug_\") and os.path.isdir(os.path.join(directory, d))\n",
    "    ]\n",
    "\n",
    "    # Raise an error if no relevant directories are found\n",
    "    if not cgmres_dirs:\n",
    "        raise FileNotFoundError(\"No cgmres debug directories found in the specified directory.\")\n",
    "    \n",
    "    # Find the latest directory by extracting and comparing the timestamp part of the directory name\n",
    "    latest_dir = max(cgmres_dirs, key=lambda d: int(d.split('_')[-1]))\n",
    "\n",
    "    # Join the specified directory path with the latest directory name\n",
    "    latest_dir_path = os.path.join(directory, latest_dir)\n",
    "\n",
    "    return latest_dir_path\n",
    "\n",
    "directory_path = \"/home/kyoichi-sugahara/.ros/log\"  # Set the directory path\n",
    "latest_directory = find_latest_cgmres_directory(directory_path)\n",
    "print(f\"The latest cgmres debug directory is: {latest_directory}\")\n",
    "\n"
   ]
  },
  {
   "cell_type": "code",
   "execution_count": null,
   "metadata": {},
   "outputs": [],
   "source": [
    "from plotter import Plotter\n",
    "\n",
    "plotter = Plotter(log_dir=latest_directory)\n",
    "plotter.set_scales(2,5,2)\n",
    "plotter.show()\n",
    "# plotter.save()"
   ]
  },
  {
   "cell_type": "code",
   "execution_count": null,
   "metadata": {},
   "outputs": [],
   "source": [
    "# import importlib\n",
    "# import animator  \n",
    "# importlib.reload(animator)\n",
    "from animator import TrajectoryFollowing\n",
    "\n",
    "anim = TrajectoryFollowing(\n",
    "    log_dir=latest_directory\n",
    ")\n",
    "# anim.set_skip_frames(10)\n",
    "anim.generate_animation()"
   ]
  },
  {
   "cell_type": "code",
   "execution_count": null,
   "metadata": {},
   "outputs": [],
   "source": [
    "import os\n",
    "import sys\n",
    "\n",
    "relative_path = \"../../mpc_lateral_controller/debug\"\n",
    "absolute_path = os.path.abspath(relative_path)\n",
    "\n",
    "if os.path.exists(absolute_path):\n",
    "    sys.path.append(absolute_path)\n",
    "else:\n",
    "    print(f\"The path {absolute_path} does not exist.\")\n",
    "\n",
    "import importlib\n",
    "import visualize_path\n",
    "\n",
    "importlib.reload(visualize_path)\n",
    "from visualize_path import plot_trajectory\n",
    "\n",
    "# データディレクトリを指定する場合は、以下のコメントアウトを解除し、適切なパスを設定してください。\n",
    "# data_directory = \"/path/to/your/data/directory\"\n",
    "# plot_trajectory(data_directory)\n",
    "\n",
    "# デフォルトの最新ディレクトリを使用する場合は、引数なしで呼び出します。\n",
    "plot_trajectory()\n",
    "\n",
    "# ウィンドウで表示したい場合は、以下のコードを実行してください。\n",
    "# python3 src/autoware/universe/control/mpc_lateral_controller/debug/visualize_path.py"
   ]
  }
 ],
 "metadata": {
  "kernelspec": {
   "display_name": "Python 3",
   "language": "python",
   "name": "python3"
  },
  "language_info": {
   "codemirror_mode": {
    "name": "ipython",
    "version": 3
   },
   "file_extension": ".py",
   "mimetype": "text/x-python",
   "name": "python",
   "nbconvert_exporter": "python",
   "pygments_lexer": "ipython3",
   "version": "3.10.12"
  }
 },
 "nbformat": 4,
 "nbformat_minor": 4
}
