{
 "cells": [
  {
   "cell_type": "markdown",
   "metadata": {},
   "source": [
    "# AutoGenU for Jupyter\n",
    "\n",
    "An Automatic C++ Code Generator for Nonlinear Model Predictive Control (NMPC)  \n",
    "\n",
    "---  "
   ]
  },
  {
   "cell_type": "markdown",
   "metadata": {},
   "source": [
    "## Formulation of the optimal control problem: Cart pole"
   ]
  },
  {
   "cell_type": "markdown",
   "metadata": {},
   "source": [
    "### Model description\n",
    "<img src=\"https://raw.github.com/wiki/mayataka/CGMRES/images/fig_cartpole.png\" width=40%>\n",
    "\n",
    "The above figure shows the model of a cart pole. By the Lagrange's method, the equation of the motion is derived as  \n",
    "$$\\ddot{y} = \\frac{1}{m_c + m_p \\sin ^2{\\theta}} \\left\\{ u + m_p \\sin{\\theta} (l \\dot{\\theta}^2 + g \\cos{\\theta}) \\right\\}, $$  \n",
    "$$\\ddot{\\theta} = \\frac{1}{l(m_c + m_p \\sin ^2{\\theta})} \\left\\{ - u \\cos{\\theta} - m_p l {\\dot{\\theta}}^2 \\cos{\\theta} \\sin{\\theta} - (m_c + m_p) g \\sin{\\theta} \\right\\} .$$\n",
    "We also assume that the input of the cartpole is limited as  \n",
    "$$u_{\\rm min} \\leq u \\leq u_{\\rm max} , $$\n",
    "where $u_{\\rm min}, u_{\\rm max} \\in \\mathbb{R}$.\n",
    "\n",
    "### Formulation of the optimal control problem\n",
    "We define the state vector as\n",
    "$$ x = \\begin{bmatrix} y \\\\ \\theta \\\\ \\dot{y} \\\\ \\dot{\\theta} \\end{bmatrix} .$$\n",
    "The state equation is then given as \n",
    "$$\\dot{x} = f(t, x, u) = \\begin{bmatrix} \\dot{y} \\\\ \\dot{\\theta} \\\\ \\frac{1}{m_c + m_p \\sin ^2{\\theta}} \\left\\{ u + m_p \\sin{\\theta} (l \\dot{\\theta}^2 + g \\cos{\\theta}) \\right\\} \\\\ \\frac{1}{l(m_c + m_p \\sin ^2{\\theta})} \\left\\{ - u \\cos{\\theta} - m_p l {\\dot{\\theta}}^2 \\cos{\\theta} \\sin{\\theta} - (m_c + m_p) g \\sin{\\theta} \\right\\} \\end{bmatrix} .$$\n",
    "Next, we set the cost function \n",
    "$$ J = \\varphi(t, x) + \\int_{t}^{t+T} L(t, x, u) .$$\n",
    "The objective is to invert the pole and stabilize the cart around $y=0$. In other words, we want to converge the state of the cart pole to \n",
    "$$x_{\\rm ref} := \\begin{bmatrix} 0 \\\\ \\pi \\\\ 0 \\\\ 0 \\end{bmatrix}.$$  \n",
    "To achieve this goal, we set the terminal cost as\n",
    "$$\\varphi(t,x) = \\frac{1}{2} (x - x_{\\rm ref})^{\\rm T} Q_{\\rm terminal} (x - x_{\\rm ref}) ,$$  \n",
    "where $Q_{\\rm terminal} = {\\rm diag}\\left\\{ {q_{\\rm terminal}}_1, {q_{\\rm terminal}}_2, {q_{\\rm terminal}}_3, {q_{\\rm terminal}}_4 \\right\\}$ and ${q_{\\rm terminal}}_1, {q_{\\rm terminal}}_2, {q_{\\rm terminal}}_3, {q_{\\rm terminal}}_4$ are positive real constants. We also set the stage cost as  \n",
    "$$L(t, x, u) = \\frac{1}{2} (x - x_{\\rm ref})^{\\rm T} Q (x - x_{\\rm ref}) + \\frac{1}{2} r u^2,$$  \n",
    "where $Q = {\\rm diag} \\left\\{ q_1, q_2, q_3, q_4 \\right\\}$ with positive real constants $q_1, q_2, q_3, q_4$, $r$ is positive real constant."
   ]
  },
  {
   "cell_type": "markdown",
   "metadata": {},
   "source": [
    "---\n",
    "\n",
    "# Generate C++ code for optimal control problem (OCP)"
   ]
  },
  {
   "cell_type": "markdown",
   "metadata": {},
   "source": [
    "## Import module"
   ]
  },
  {
   "cell_type": "code",
   "execution_count": 24,
   "metadata": {},
   "outputs": [],
   "source": [
    "import autogenu"
   ]
  },
  {
   "cell_type": "markdown",
   "metadata": {},
   "source": [
    "## Set dimensions and define `AutoGenU`\n",
    "- `nx`: Dimension of the state vector $x$   \n",
    "- `nu`: Dimension of the control input vector $u$  \n",
    "- `ocp_name`: Name of the optimal control problem (OCP). Used as the name of the directory containing the generated C++ source files."
   ]
  },
  {
   "cell_type": "code",
   "execution_count": 25,
   "metadata": {},
   "outputs": [],
   "source": [
    "nx = 4\n",
    "nu = 1\n",
    "ocp_name = 'cartpole'\n",
    "ag = autogenu.AutoGenU(ocp_name, nx, nu)"
   ]
  },
  {
   "cell_type": "markdown",
   "metadata": {},
   "source": [
    "## Generate t, x, and u, necessary variables to formulate of the optimal control problem\n",
    "- `t`: Time parameter $t$  \n",
    "- `x`: The state vector $x$  \n",
    "- `u`: The control input vector $u$  "
   ]
  },
  {
   "cell_type": "code",
   "execution_count": 26,
   "metadata": {},
   "outputs": [],
   "source": [
    "t = ag.define_t()\n",
    "x = ag.define_x()\n",
    "u = ag.define_u()"
   ]
  },
  {
   "cell_type": "markdown",
   "metadata": {},
   "source": [
    "## Define variables used in the state equation, constraints, and cost function\n",
    "- Define a scalar variable whose name is \"var\" as  \n",
    "`var = ag.define_scalar_var('var') `\n",
    "\n",
    "- Define scalar variables whose names are \"var\\_1\", \"var\\_2\", ..., \"var\\_n\" as  \n",
    "`var_1, var_2, ..., var_n = ag.define_scalar_vars('var_1', 'var_2', ..., 'var_n')`\n",
    "\n",
    "- Define array variables whose name is \"vec\" and dimension is dim_vec as  \n",
    "`vec = ag.define_array_var('vec', dim_vec)`"
   ]
  },
  {
   "cell_type": "code",
   "execution_count": 27,
   "metadata": {},
   "outputs": [],
   "source": [
    "# Variables used in the state function\n",
    "m_c, m_p, l, g = ag.define_scalar_vars('m_c', 'm_p', 'l', 'g')\n",
    "\n",
    "# Variables used in the cost function\n",
    "q = ag.define_array_var('q', nx)\n",
    "q_terminal = ag.define_array_var('q_terminal', nx)\n",
    "x_ref = ag.define_array_var('x_ref', nx)\n",
    "r = ag.define_array_var('r', nu)"
   ]
  },
  {
   "cell_type": "markdown",
   "metadata": {},
   "source": [
    "## Define the state equation, constraints, the stage cost, and the terminal cost\n",
    "- `f`: The state equation $ f(t, x, u)$  \n",
    "- `C`: The equality constraints $C(t, x, u) = 0 $  \n",
    "- `h`: The inequality constraints $h(t, x, u) \\leq 0$ considered by semi-smooth Fischer-Burumeister method  \n",
    "- `L`: The stage cost $L(t, x, u)$  \n",
    "- `phi`: The terminal cost $\\phi (t, x)$  \n",
    "\n",
    "Note: array indices start with 0"
   ]
  },
  {
   "cell_type": "code",
   "execution_count": 28,
   "metadata": {},
   "outputs": [],
   "source": [
    "# Import symbolic math from sympy. If you need more functions, import same as below.\n",
    "from sympy import sin, cos, tan, exp, log, sinh, cosh, tanh, diff, sqrt"
   ]
  },
  {
   "cell_type": "code",
   "execution_count": 29,
   "metadata": {},
   "outputs": [],
   "source": [
    "# Define the state equation\n",
    "f = [x[2], \n",
    "     x[3],\n",
    "    (u[0] + m_p*sin(x[1])*(l*x[1]*x[1] + g*cos(x[1])) )/( m_c+m_p*sin(x[1])*sin(x[1])),\n",
    "    (-u[0] * cos(x[1]) - m_p*l*x[1]*x[1]*cos(x[1])*sin(x[1]) - (m_c+m_p)*g*sin(x[1]) )/( l*(m_c + m_p*sin(x[1])*sin(x[1])))]\n",
    "\n",
    "# Define the constraints\n",
    "C = []\n",
    "\n",
    "# Define the inequality constraints considered using the semi-smooth Fischer-Burmeister method\n",
    "h = []\n",
    "\n",
    "# Define the stage cost\n",
    "L = sum(q[i]*(x[i] - x_ref[i])**2 for i in range(nx))/2 + (r[0] * u[0]**2)/2  \n",
    "\n",
    "# Define the terminal cost\n",
    "phi = sum(q_terminal[i]*(x[i] - x_ref[i])**2 for i in range(nx))/2 "
   ]
  },
  {
   "cell_type": "code",
   "execution_count": 30,
   "metadata": {},
   "outputs": [],
   "source": [
    "# Set functions\n",
    "ag.set_functions(f, C, h, L, phi)"
   ]
  },
  {
   "cell_type": "markdown",
   "metadata": {},
   "source": [
    "## Define the control input bound constraints\n",
    "The box constraints on the control input $u_{\\rm min} \\leq u \\leq u_{\\rm max}$ are treated in a special manner.\n",
    "Specifically, it is transformed into $$u^2 + u_{\\rm dummy}^2 - (\\frac{u_{\\rm max} - u_{\\rm min}}{2})^2 = 0$$.  \n",
    "Further, $u_{\\rm dummy}$ and associated Lagrange multiplier are eliminated in Newton-type iteration efficiently in the multiple-shooting solver.  \n",
    "Set such box constraints by specifying\n",
    "- `uindex`: index of the constrained control input element\n",
    "- `umin`: Minimum value (lower bound) of the control input element\n",
    "- `umax`: Maximum value (upper bound) of the control input element\n",
    "- `dummy_weight`: Weight parameter of the dummy (slack) variable"
   ]
  },
  {
   "cell_type": "code",
   "execution_count": 31,
   "metadata": {},
   "outputs": [],
   "source": [
    "ag.add_control_input_bounds(uindex=0, umin=-15.0, umax=15.0, dummy_weight=0.1)"
   ]
  },
  {
   "cell_type": "markdown",
   "metadata": {},
   "source": [
    "## Set Parameters\n",
    "Set values for all parameters you defined.\n",
    "- Set `value` for a scalar variable whose name is \"var\" as  \n",
    "`ag.set_scalar_var('var', value) `\n",
    "\n",
    "- Set `value_1`, `value_2`, ..., `value_n`, for scalar variables whose names are \"var\\_1\", \"var\\_2\", ..., \"var\\_n\" as  \n",
    "`ag.set_scalar_vars(['var_1', value_1], ['var_2', value_2], ..., ['var_n', value_n])`\n",
    "\n",
    "- Set array variables `var_1`, `var_2`, ..., `var_n` whose name is \"vec\" and dimension is n as  \n",
    "`ag.define_array_var('vec', [var_1, var_2, ..., var_n])`"
   ]
  },
  {
   "cell_type": "code",
   "execution_count": 32,
   "metadata": {},
   "outputs": [],
   "source": [
    "ag.set_scalar_vars(['m_c', 2], ['m_p', 0.2], ['l', 0.5], ['g', 9.80665])\n",
    "ag.set_array_var('q', [2.5, 10, 0.01, 0.01])\n",
    "ag.set_array_var('r', [1])\n",
    "ag.set_array_var('q_terminal', [2.5, 10, 0.01, 0.01])\n",
    "ag.set_array_var('x_ref', [0, 'M_PI', 0, 0])"
   ]
  },
  {
   "cell_type": "markdown",
   "metadata": {},
   "source": [
    "## Generate C++ codes of the definition of the optimal control problem\n",
    "Generate `ocp.hpp` that defines the optimal control problem (OCP).  \n",
    "- `simplification`: The flag for simplification. If `True`, symbolic functions are simplified. However, if functions are too complicated, it takes too much time. Default is `False`.  \n",
    "- `common_subexpression_elimination`: The flag for common subexpression elimination. If `True`, common subexpressions in fxu, phix, hx, and hu are eliminated when `ocp.hpp` is generated. Default is `False`. "
   ]
  },
  {
   "cell_type": "code",
   "execution_count": 33,
   "metadata": {},
   "outputs": [
    {
     "name": "stdout",
     "output_type": "stream",
     "text": [
      "'ocp.hpp', the definition of the OCP, is generated at /home/kyoichi-sugahara/PhD_workspace/autogenu-jupyter/generated/cartpole\n"
     ]
    }
   ],
   "source": [
    "simplification = False\n",
    "common_subexpression_elimination = True\n",
    "\n",
    "ag.generate_ocp_definition(simplification, common_subexpression_elimination)"
   ]
  },
  {
   "cell_type": "markdown",
   "metadata": {},
   "source": [
    "---  \n",
    "# Generate C++ codes of NMPC solver and numerical simulation  "
   ]
  },
  {
   "cell_type": "markdown",
   "metadata": {},
   "source": [
    "## Set NLP type  \n",
    "Set which NLP formulation you use. (hint: `MultipleShooting` works better for typical nonlinear problems.)\n",
    "- `MultipleShooting` (recommended) : The multiple shooting based C/GMRES method with condensing of the state and the Lagrange multipliers with respect to the state equation.\n",
    "- `SingleShooting` : The single shooting method, i.e., the original C/GMRES method."
   ]
  },
  {
   "cell_type": "code",
   "execution_count": 34,
   "metadata": {
    "scrolled": true
   },
   "outputs": [],
   "source": [
    "nlp_type = autogenu.NLPType.MultipleShooting\n",
    "ag.set_nlp_type(nlp_type)"
   ]
  },
  {
   "cell_type": "markdown",
   "metadata": {},
   "source": [
    "## Set horizon length \n",
    "\n",
    "- `Tf`, `alpha`: Parameters for the length of the horizon. If $\\alpha > 0$, time-varying horizon length $T(t) = T_f (1 - e^{-\\alpha t})$ is used. Otherwise, $T(t)$ is fixed by $T_f$. "
   ]
  },
  {
   "cell_type": "code",
   "execution_count": 35,
   "metadata": {},
   "outputs": [],
   "source": [
    "Tf = 2.0\n",
    "alpha = 0.0\n",
    "\n",
    "ag.set_horizon_params(Tf, alpha)"
   ]
  },
  {
   "cell_type": "markdown",
   "metadata": {},
   "source": [
    "## Set parameters for the C/GMRES method\n",
    "\n",
    "- `sampling_time`: Sampling period.\n",
    "- `N`: The number of the discretization grids of the horizon.  \n",
    "- `finite_difference_epsilon`: Step length of a finite difference approximations of hessian-vector products in C/GMRES.   \n",
    "- `zeta`: A stabilization parameter of the C/GMRES method. Basically, must be set by the reciprocal of the sampling time.  \n",
    "- `kmax`: The maximum number of the iteration of the GMRES."
   ]
  },
  {
   "cell_type": "code",
   "execution_count": 36,
   "metadata": {
    "code_folding": []
   },
   "outputs": [],
   "source": [
    "sampling_time = 0.001\n",
    "N = 100\n",
    "finite_difference_epsilon = 1.0e-08\n",
    "zeta = 1000  \n",
    "kmax = 5\n",
    "\n",
    "ag.set_solver_params(sampling_time, N, finite_difference_epsilon, zeta, kmax)"
   ]
  },
  {
   "cell_type": "markdown",
   "metadata": {},
   "source": [
    "## Set parameters for the initialization of the solution  \n",
    "- `solution_initial_guess`: The initial guess of the solution of the optimal control problem (OCP) for initialization of the solution of NMPC.   \n",
    "- `tolerance`: The residual tolerance of the solution of the OCP for the initialization of the solution of NMPC. The Newton iteration terminates when the optimality error is less than this value.  \n",
    "- `max_iterations`: The maximum number of Newton iteration for the initialization of the solution of NMPC.  "
   ]
  },
  {
   "cell_type": "code",
   "execution_count": 37,
   "metadata": {},
   "outputs": [],
   "source": [
    "solution_initial_guess = [0.01]\n",
    "tolerance = 1.0e-06\n",
    "max_iterations = 50\n",
    "\n",
    "ag.set_initialization_params(solution_initial_guess, tolerance, max_iterations)"
   ]
  },
  {
   "cell_type": "markdown",
   "metadata": {},
   "source": [
    "## Set parameters for numerical simulation\n",
    "- `initial_time`: Initial time of the numerical simulation.  \n",
    "- `initial_state`: Initial state vector of the system.  \n",
    "- `simulation_length`: Simulation length.  "
   ]
  },
  {
   "cell_type": "code",
   "execution_count": 38,
   "metadata": {},
   "outputs": [],
   "source": [
    "initial_time = 0  \n",
    "initial_state = [0, 0, 0, 0]  \n",
    "simulation_length = 10\n",
    "\n",
    "ag.set_simulation_params(initial_time, initial_state, simulation_length) "
   ]
  },
  {
   "cell_type": "markdown",
   "metadata": {},
   "source": [
    "## Generate main.cpp and CMakeLists.txt"
   ]
  },
  {
   "cell_type": "code",
   "execution_count": 39,
   "metadata": {
    "scrolled": true
   },
   "outputs": [
    {
     "name": "stdout",
     "output_type": "stream",
     "text": [
      "'main.cpp', the closed-loop simulation code, is generated at /home/kyoichi-sugahara/PhD_workspace/autogenu-jupyter/generated/cartpole\n",
      "CMakeLists.txt are generated at /home/kyoichi-sugahara/PhD_workspace/autogenu-jupyter/generated/cartpole/python\n"
     ]
    }
   ],
   "source": [
    "ag.generate_main()\n",
    "ag.generate_cmake()"
   ]
  },
  {
   "cell_type": "markdown",
   "metadata": {},
   "source": [
    "## Build and run simulation\n",
    "\n",
    "- `generator`: An optional variable for Windows user to choose the generator of CMake. If 'MSYS', then 'MSYS Makefiles' is used. If 'MinGW', then 'MinGW Makefiles' is used. The default value is 'Auto' and the generator is selected automatically. If sh.exe exists in your PATH, MSYS is chosen, and otherwise MinGW is used. \n",
    "- `vectorize` : If `True`, the vectorization, i.e., `-march=native` compile option is enabled. This can improve speed while can cause numerical issue depending on the compiler.  \n",
    "- `remove_build_dir`: If `True`, the existing build directory is removed. If `False`, the build directory is not removed. Need to be set `True` if you change the generator. Default is `False`."
   ]
  },
  {
   "cell_type": "code",
   "execution_count": 40,
   "metadata": {},
   "outputs": [
    {
     "name": "stdout",
     "output_type": "stream",
     "text": [
      "Update git submodules...\n",
      "Successfully updated git submodules\n",
      "\n",
      "CMake options: -DCMAKE_BUILD_TYPE=Release -DVECTORIZE=OFF -DBUILD_MAIN=ON -DBUILD_PYTHON_INTERFACE=OFF\n",
      "-- Configuring done\n",
      "-- Generating done\n",
      "-- Build files have been written to: /home/kyoichi-sugahara/PhD_workspace/autogenu-jupyter/generated/cartpole/build\n",
      "\n",
      "\n",
      "Consolidate compiler generated dependencies of target cartpole\n",
      "[ 50%] Building CXX object CMakeFiles/cartpole.dir/main.cpp.o\n",
      "In file included from /home/kyoichi-sugahara/PhD_workspace/autogenu-jupyter/generated/cartpole/ocp.hpp:13,\n",
      "                 from /home/kyoichi-sugahara/PhD_workspace/autogenu-jupyter/generated/cartpole/main.cpp:5:\n",
      "/home/kyoichi-sugahara/PhD_workspace/autogenu-jupyter/generated/cartpole/../../include/cgmres/types.hpp:6: warning: \"EIGEN_STACK_ALLOCATION_LIMIT\" redefined\n",
      "    6 | #define EIGEN_STACK_ALLOCATION_LIMIT 0 // this macro allows unlimited stack memory to avoid OBJECT_ALLOCATED_ON_STACK_IS_TOO_BIG static_assertion error.\n",
      "      |\n",
      "In file included from /home/kyoichi-sugahara/PhD_workspace/autogenu-jupyter/generated/cartpole/../../include/cgmres/thirdparty/eigen/Eigen/Core:19,\n",
      "                 from /home/kyoichi-sugahara/PhD_workspace/autogenu-jupyter/generated/cartpole/../../include/cgmres/types.hpp:4,\n",
      "                 from /home/kyoichi-sugahara/PhD_workspace/autogenu-jupyter/generated/cartpole/ocp.hpp:13,\n",
      "                 from /home/kyoichi-sugahara/PhD_workspace/autogenu-jupyter/generated/cartpole/main.cpp:5:\n",
      "/home/kyoichi-sugahara/PhD_workspace/autogenu-jupyter/generated/cartpole/../../include/cgmres/thirdparty/eigen/Eigen/src/Core/util/Macros.h:55: note: this is the location of the previous definition\n",
      "   55 | #define EIGEN_STACK_ALLOCATION_LIMIT 131072\n",
      "      |\n",
      "[100%] Linking CXX executable cartpole\n",
      "[100%] Built target cartpole\n",
      "\n",
      "\n",
      "Start a simulation...\n",
      "End the simulation\n",
      "\n",
      "MPC used in this simulation:\n",
      "Multiple shooting CGMRES solver:\n",
      "  N:    100\n",
      "  kmax: 5\n",
      "\n",
      "OCP_cartpole:\n",
      "  nx:  4\n",
      "  nu:  1\n",
      "  nc:  0\n",
      "  nh:  0\n",
      "  nuc: 1\n",
      "  nub: 1\n",
      "\n",
      "  m_c: 2\n",
      "  m_p: 0.2\n",
      "  l: 0.5\n",
      "  g: 9.80665\n",
      "\n",
      "  q: [ 2.5,   10, 0.01, 0.01]\n",
      "  q_terminal: [ 2.5,   10, 0.01, 0.01]\n",
      "  x_ref: [    0, 3.142,     0,     0]\n",
      "  r: [1]\n",
      "\n",
      "  ubound_indices: [0]\n",
      "  umin: [-15]\n",
      "  umax: [15]\n",
      "  dummy_weight: [0.1]\n",
      "\n",
      "Horizon: fixed length\n",
      "  Tf:    2\n",
      "  alpha: 0\n",
      "  t0:    0\n",
      "\n",
      "Soler settings:\n",
      "  max iter:                  50\n",
      "  opterr tol:                1e-06\n",
      "  finite difference epsilon: 1e-08\n",
      "  sampling_time:             0.001\n",
      "  zeta:                      1000\n",
      "  min dummy:                 0.001\n",
      "  verbose level:             0\n",
      "  profile solver:            true\n",
      "\n",
      "TimingProfile:\n",
      "  average time: 0.0753009 [ms]\n",
      "  max time:     0.150308 [ms]\n",
      "  counts:       10000\n",
      "\n",
      "\n",
      "The log files are generated at  /home/kyoichi-sugahara/PhD_workspace/autogenu-jupyter/generated/cartpole/log\n"
     ]
    }
   ],
   "source": [
    "generator = 'Auto'  \n",
    "vectorize = False\n",
    "remove_build_dir = False\n",
    "ag.git_submodule_update()\n",
    "ag.build_main(generator=generator, vectorize=vectorize, remove_build_dir=remove_build_dir)\n",
    "ag.run_simulation()"
   ]
  },
  {
   "cell_type": "markdown",
   "metadata": {},
   "source": [
    "## Plot the simulation results"
   ]
  },
  {
   "cell_type": "code",
   "execution_count": 41,
   "metadata": {},
   "outputs": [],
   "source": [
    "%matplotlib inline"
   ]
  },
  {
   "cell_type": "code",
   "execution_count": 42,
   "metadata": {},
   "outputs": [
    {
     "name": "stderr",
     "output_type": "stream",
     "text": [
      "'created' timestamp seems very low; regarding as unix timestamp\n",
      "'modified' timestamp seems very low; regarding as unix timestamp\n",
      "'created' timestamp seems very low; regarding as unix timestamp\n",
      "'modified' timestamp seems very low; regarding as unix timestamp\n",
      "'created' timestamp seems very low; regarding as unix timestamp\n",
      "'modified' timestamp seems very low; regarding as unix timestamp\n"
     ]
    },
    {
     "name": "stdout",
     "output_type": "stream",
     "text": [
      "The graph of the simlation results is generated at /home/kyoichi-sugahara/PhD_workspace/autogenu-jupyter/generated/cartpole/log/cartpole.pdf\n"
     ]
    },
    {
     "data": {
      "image/png": "[encoded data removed]",
      "text/plain": [
       "<Figure size 1000x600 with 6 Axes>"
      ]
     },
     "metadata": {},
     "output_type": "display_data"
    }
   ],
   "source": [
    "plotter = autogenu.Plotter(log_dir=ag.get_ocp_log_dir(), log_name=ag.get_ocp_name())\n",
    "plotter.set_scales(2,5,2)\n",
    "# plotter.show()\n",
    "plotter.save()"
   ]
  },
  {
   "cell_type": "markdown",
   "metadata": {},
   "source": [
    "## Draw animations of the simulation results"
   ]
  },
  {
   "cell_type": "code",
   "execution_count": 43,
   "metadata": {},
   "outputs": [
    {
     "name": "stdout",
     "output_type": "stream",
     "text": [
      "The animation of the simlation results is generated at /home/kyoichi-sugahara/PhD_workspace/autogenu-jupyter/generated/cartpole/log\n"
     ]
    },
    {
     "data": {
      "image/png": "[encoded data removed]",
      "text/plain": [
       "<Figure size 800x600 with 1 Axes>"
      ]
     },
     "metadata": {},
     "output_type": "display_data"
    }
   ],
   "source": [
    "anim = autogenu.CartPole(log_dir=ag.get_ocp_log_dir(), log_name=ag.get_ocp_name())\n",
    "anim.set_skip_frames(10)\n",
    "anim.generate_animation()"
   ]
  },
  {
   "cell_type": "markdown",
   "metadata": {},
   "source": [
    "## Build Python interface\n",
    "\n",
    "- `generator`: An optional variable for Windows user to choose the generator of CMake. If 'MSYS', then 'MSYS Makefiles' is used. If 'MinGW', then 'MinGW Makefiles' is used. The default value is 'Auto' and the generator is selected automatically. If sh.exe exists in your PATH, MSYS is chosen, and otherwise MinGW is used. \n",
    "- `vectorize` : If `True`, the vectorization, i.e., `-march=native` compile option is enabled. This can improve speed while can cause numerical issue depending on the compiler.  \n",
    "- `remove_build_dir`: If `True`, the existing build directory is removed. If `False`, the build directory is not removed. Need to be set `True` if you change the generator. Default is `False`."
   ]
  },
  {
   "cell_type": "code",
   "execution_count": 44,
   "metadata": {},
   "outputs": [
    {
     "name": "stdout",
     "output_type": "stream",
     "text": [
      "pybind11 source codes are generated at /home/kyoichi-sugahara/PhD_workspace/autogenu-jupyter/generated/cartpole/python\n",
      "Update git submodules...\n",
      "Successfully updated git submodules\n",
      "\n",
      "CMake options: -DCMAKE_BUILD_TYPE=Release -DVECTORIZE=OFF -DBUILD_MAIN=OFF -DBUILD_PYTHON_INTERFACE=ON\n",
      "-- pybind11 v2.11.0 dev1\n",
      "-- pybind11 v2.11.0 dev1\n",
      "-- Configuring done\n",
      "-- Generating done\n",
      "-- Build files have been written to: /home/kyoichi-sugahara/PhD_workspace/autogenu-jupyter/generated/cartpole/build\n",
      "\n",
      "\n",
      "Consolidate compiler generated dependencies of target solver_settings\n",
      "[  7%] Building CXX object python/common/CMakeFiles/solver_settings.dir/solver_settings.cpp.o\n",
      "In file included from /home/kyoichi-sugahara/PhD_workspace/autogenu-jupyter/generated/cartpole/../../include/cgmres/solver_settings.hpp:6,\n",
      "                 from /home/kyoichi-sugahara/PhD_workspace/autogenu-jupyter/generated/cartpole/python/common/solver_settings.cpp:10:\n",
      "/home/kyoichi-sugahara/PhD_workspace/autogenu-jupyter/generated/cartpole/../../include/cgmres/types.hpp:6: warning: \"EIGEN_STACK_ALLOCATION_LIMIT\" redefined\n",
      "    6 | #define EIGEN_STACK_ALLOCATION_LIMIT 0 // this macro allows unlimited stack memory to avoid OBJECT_ALLOCATED_ON_STACK_IS_TOO_BIG static_assertion error.\n",
      "      |\n",
      "In file included from /home/kyoichi-sugahara/PhD_workspace/autogenu-jupyter/generated/cartpole/../../include/cgmres/thirdparty/eigen/Eigen/Core:19,\n",
      "                 from /home/kyoichi-sugahara/PhD_workspace/autogenu-jupyter/include/cgmres/thirdparty/pybind11/include/pybind11/eigen.h:32,\n",
      "                 from /home/kyoichi-sugahara/PhD_workspace/autogenu-jupyter/generated/cartpole/python/common/solver_settings.cpp:7:\n",
      "/home/kyoichi-sugahara/PhD_workspace/autogenu-jupyter/include/cgmres/thirdparty/eigen/Eigen/src/Core/util/Macros.h:55: note: this is the location of the previous definition\n",
      "   55 | #define EIGEN_STACK_ALLOCATION_LIMIT 131072\n",
      "      |\n",
      "In file included from /home/kyoichi-sugahara/PhD_workspace/autogenu-jupyter/generated/cartpole/python/common/solver_settings.cpp:11:\n",
      "/home/kyoichi-sugahara/PhD_workspace/autogenu-jupyter/generated/cartpole/../../include/cgmres/python/solver_settings.hpp:1:50: warning: backslash-newline at end of file\n",
      "    1 | #define DEFINE_PYBIND11_MODULE_SOLVER_SETTINGS() \\\n",
      "      |\n",
      "/home/kyoichi-sugahara/PhD_workspace/autogenu-jupyter/generated/cartpole/../../include/cgmres/python/solver_settings.hpp:18:21: warning: backslash and newline separated by space\n",
      "   18 |         ss << self; \\\n",
      "      |\n",
      "[ 14%] Linking CXX shared library solver_settings.cpython-310-x86_64-linux-gnu.so\n",
      "[ 14%] Built target solver_settings\n",
      "Consolidate compiler generated dependencies of target horizon\n",
      "[ 21%] Building CXX object python/common/CMakeFiles/horizon.dir/horizon.cpp.o\n",
      "In file included from /home/kyoichi-sugahara/PhD_workspace/autogenu-jupyter/generated/cartpole/python/common/horizon.cpp:10:\n",
      "/home/kyoichi-sugahara/PhD_workspace/autogenu-jupyter/generated/cartpole/../../include/cgmres/types.hpp:6: warning: \"EIGEN_STACK_ALLOCATION_LIMIT\" redefined\n",
      "    6 | #define EIGEN_STACK_ALLOCATION_LIMIT 0 // this macro allows unlimited stack memory to avoid OBJECT_ALLOCATED_ON_STACK_IS_TOO_BIG static_assertion error.\n",
      "      |\n",
      "In file included from /home/kyoichi-sugahara/PhD_workspace/autogenu-jupyter/generated/cartpole/../../include/cgmres/thirdparty/eigen/Eigen/Core:19,\n",
      "                 from /home/kyoichi-sugahara/PhD_workspace/autogenu-jupyter/include/cgmres/thirdparty/pybind11/include/pybind11/eigen.h:32,\n",
      "                 from /home/kyoichi-sugahara/PhD_workspace/autogenu-jupyter/generated/cartpole/python/common/horizon.cpp:7:\n",
      "/home/kyoichi-sugahara/PhD_workspace/autogenu-jupyter/include/cgmres/thirdparty/eigen/Eigen/src/Core/util/Macros.h:55: note: this is the location of the previous definition\n",
      "   55 | #define EIGEN_STACK_ALLOCATION_LIMIT 131072\n",
      "      |\n",
      "In file included from /home/kyoichi-sugahara/PhD_workspace/autogenu-jupyter/generated/cartpole/python/common/horizon.cpp:12:\n",
      "/home/kyoichi-sugahara/PhD_workspace/autogenu-jupyter/generated/cartpole/../../include/cgmres/python/horizon.hpp:1:42: warning: backslash-newline at end of file\n",
      "    1 | #define DEFINE_PYBIND11_MODULE_HORIZON() \\\n",
      "      |\n",
      "/home/kyoichi-sugahara/PhD_workspace/autogenu-jupyter/generated/cartpole/../../include/cgmres/python/horizon.hpp:6:24: warning: backslash and newline separated by space\n",
      "    6 |     .def(py::init<>()) \\\n",
      "      |\n",
      "/home/kyoichi-sugahara/PhD_workspace/autogenu-jupyter/generated/cartpole/../../include/cgmres/python/horizon.hpp:15:21: warning: backslash and newline separated by space\n",
      "   15 |         ss << self; \\\n",
      "      |\n",
      "[ 28%] Linking CXX shared library horizon.cpython-310-x86_64-linux-gnu.so\n",
      "[ 28%] Built target horizon\n",
      "Consolidate compiler generated dependencies of target timer\n",
      "[ 35%] Building CXX object python/common/CMakeFiles/timer.dir/timer.cpp.o\n",
      "In file included from /home/kyoichi-sugahara/PhD_workspace/autogenu-jupyter/generated/cartpole/../../include/cgmres/timer.hpp:7,\n",
      "                 from /home/kyoichi-sugahara/PhD_workspace/autogenu-jupyter/generated/cartpole/python/common/timer.cpp:10:\n",
      "/home/kyoichi-sugahara/PhD_workspace/autogenu-jupyter/generated/cartpole/../../include/cgmres/types.hpp:6: warning: \"EIGEN_STACK_ALLOCATION_LIMIT\" redefined\n",
      "    6 | #define EIGEN_STACK_ALLOCATION_LIMIT 0 // this macro allows unlimited stack memory to avoid OBJECT_ALLOCATED_ON_STACK_IS_TOO_BIG static_assertion error.\n",
      "      |\n",
      "In file included from /home/kyoichi-sugahara/PhD_workspace/autogenu-jupyter/generated/cartpole/../../include/cgmres/thirdparty/eigen/Eigen/Core:19,\n",
      "                 from /home/kyoichi-sugahara/PhD_workspace/autogenu-jupyter/include/cgmres/thirdparty/pybind11/include/pybind11/eigen.h:32,\n",
      "                 from /home/kyoichi-sugahara/PhD_workspace/autogenu-jupyter/generated/cartpole/python/common/timer.cpp:7:\n",
      "/home/kyoichi-sugahara/PhD_workspace/autogenu-jupyter/include/cgmres/thirdparty/eigen/Eigen/src/Core/util/Macros.h:55: note: this is the location of the previous definition\n",
      "   55 | #define EIGEN_STACK_ALLOCATION_LIMIT 131072\n",
      "      |\n",
      "In file included from /home/kyoichi-sugahara/PhD_workspace/autogenu-jupyter/generated/cartpole/python/common/timer.cpp:11:\n",
      "/home/kyoichi-sugahara/PhD_workspace/autogenu-jupyter/generated/cartpole/../../include/cgmres/python/timer.hpp:1:40: warning: backslash-newline at end of file\n",
      "    1 | #define DEFINE_PYBIND11_MODULE_TIMER() \\\n",
      "      |\n",
      "/home/kyoichi-sugahara/PhD_workspace/autogenu-jupyter/generated/cartpole/../../include/cgmres/python/timer.hpp:4:24: warning: backslash and newline separated by space\n",
      "    4 |     .def(py::init<>()) \\\n",
      "      |\n",
      "/home/kyoichi-sugahara/PhD_workspace/autogenu-jupyter/generated/cartpole/../../include/cgmres/python/timer.hpp:14:21: warning: backslash and newline separated by space\n",
      "   14 |         ss << self; \\\n",
      "      |\n",
      "/home/kyoichi-sugahara/PhD_workspace/autogenu-jupyter/generated/cartpole/../../include/cgmres/python/timer.hpp:18:24: warning: backslash and newline separated by space\n",
      "   18 |     .def(py::init<>()) \\\n",
      "      |\n",
      "[ 42%] Linking CXX shared library timer.cpython-310-x86_64-linux-gnu.so\n",
      "[ 42%] Built target timer\n",
      "Consolidate compiler generated dependencies of target ocp\n",
      "[ 50%] Building CXX object python/cartpole/CMakeFiles/ocp.dir/ocp.cpp.o\n",
      "In file included from /home/kyoichi-sugahara/PhD_workspace/autogenu-jupyter/generated/cartpole/python/cartpole/ocp.cpp:10:\n",
      "/home/kyoichi-sugahara/PhD_workspace/autogenu-jupyter/generated/cartpole/../../include/cgmres/types.hpp:6: warning: \"EIGEN_STACK_ALLOCATION_LIMIT\" redefined\n",
      "    6 | #define EIGEN_STACK_ALLOCATION_LIMIT 0 // this macro allows unlimited stack memory to avoid OBJECT_ALLOCATED_ON_STACK_IS_TOO_BIG static_assertion error.\n",
      "      |\n",
      "In file included from /home/kyoichi-sugahara/PhD_workspace/autogenu-jupyter/generated/cartpole/../../include/cgmres/thirdparty/eigen/Eigen/Core:19,\n",
      "                 from /home/kyoichi-sugahara/PhD_workspace/autogenu-jupyter/include/cgmres/thirdparty/pybind11/include/pybind11/eigen.h:32,\n",
      "                 from /home/kyoichi-sugahara/PhD_workspace/autogenu-jupyter/generated/cartpole/python/cartpole/ocp.cpp:7:\n",
      "/home/kyoichi-sugahara/PhD_workspace/autogenu-jupyter/include/cgmres/thirdparty/eigen/Eigen/src/Core/util/Macros.h:55: note: this is the location of the previous definition\n",
      "   55 | #define EIGEN_STACK_ALLOCATION_LIMIT 131072\n",
      "      |\n",
      "[ 57%] Linking CXX shared library ocp.cpython-310-x86_64-linux-gnu.so\n",
      "[ 57%] Built target ocp\n",
      "Consolidate compiler generated dependencies of target zero_horizon_ocp_solver\n",
      "[ 64%] Building CXX object python/cartpole/CMakeFiles/zero_horizon_ocp_solver.dir/zero_horizon_ocp_solver.cpp.o\n",
      "In file included from /home/kyoichi-sugahara/PhD_workspace/autogenu-jupyter/generated/cartpole/../../include/cgmres/zero_horizon_ocp_solver.hpp:8,\n",
      "                 from /home/kyoichi-sugahara/PhD_workspace/autogenu-jupyter/generated/cartpole/python/cartpole/zero_horizon_ocp_solver.cpp:10:\n",
      "/home/kyoichi-sugahara/PhD_workspace/autogenu-jupyter/generated/cartpole/../../include/cgmres/types.hpp:6: warning: \"EIGEN_STACK_ALLOCATION_LIMIT\" redefined\n",
      "    6 | #define EIGEN_STACK_ALLOCATION_LIMIT 0 // this macro allows unlimited stack memory to avoid OBJECT_ALLOCATED_ON_STACK_IS_TOO_BIG static_assertion error.\n",
      "      |\n",
      "In file included from /home/kyoichi-sugahara/PhD_workspace/autogenu-jupyter/generated/cartpole/../../include/cgmres/thirdparty/eigen/Eigen/Core:19,\n",
      "                 from /home/kyoichi-sugahara/PhD_workspace/autogenu-jupyter/include/cgmres/thirdparty/pybind11/include/pybind11/eigen.h:32,\n",
      "                 from /home/kyoichi-sugahara/PhD_workspace/autogenu-jupyter/generated/cartpole/python/cartpole/zero_horizon_ocp_solver.cpp:7:\n",
      "/home/kyoichi-sugahara/PhD_workspace/autogenu-jupyter/include/cgmres/thirdparty/eigen/Eigen/src/Core/util/Macros.h:55: note: this is the location of the previous definition\n",
      "   55 | #define EIGEN_STACK_ALLOCATION_LIMIT 131072\n",
      "      |\n",
      "In file included from /home/kyoichi-sugahara/PhD_workspace/autogenu-jupyter/generated/cartpole/python/cartpole/zero_horizon_ocp_solver.cpp:11:\n",
      "/home/kyoichi-sugahara/PhD_workspace/autogenu-jupyter/generated/cartpole/../../include/cgmres/python/zero_horizon_ocp_solver.hpp:1:67: warning: backslash-newline at end of file\n",
      "    1 | #define DEFINE_PYBIND11_MODULE_ZERO_HORIZON_OCP_SOLVER(OCP, KMAX) \\\n",
      "      |\n",
      "/home/kyoichi-sugahara/PhD_workspace/autogenu-jupyter/generated/cartpole/../../include/cgmres/python/zero_horizon_ocp_solver.hpp:5:43: warning: backslash and newline separated by space\n",
      "    5 |     .def(py::init<OCP, SolverSettings>(), \\\n",
      "      |\n",
      "/home/kyoichi-sugahara/PhD_workspace/autogenu-jupyter/generated/cartpole/../../include/cgmres/python/zero_horizon_ocp_solver.hpp:7:24: warning: backslash and newline separated by space\n",
      "    7 |     .def(py::init<>()) \\\n",
      "      |\n",
      "/home/kyoichi-sugahara/PhD_workspace/autogenu-jupyter/generated/cartpole/../../include/cgmres/python/zero_horizon_ocp_solver.hpp:13:24: warning: backslash and newline separated by space\n",
      "   13 |         self.set_u(u); \\\n",
      "      |\n",
      "/home/kyoichi-sugahara/PhD_workspace/autogenu-jupyter/generated/cartpole/../../include/cgmres/python/zero_horizon_ocp_solver.hpp:16:26: warning: backslash and newline separated by space\n",
      "   16 |         self.set_uc(uc); \\\n",
      "      |\n",
      "/home/kyoichi-sugahara/PhD_workspace/autogenu-jupyter/generated/cartpole/../../include/cgmres/python/zero_horizon_ocp_solver.hpp:19:32: warning: backslash and newline separated by space\n",
      "   19 |         self.set_dummy(dummy); \\\n",
      "      |\n",
      "/home/kyoichi-sugahara/PhD_workspace/autogenu-jupyter/generated/cartpole/../../include/cgmres/python/zero_horizon_ocp_solver.hpp:22:26: warning: backslash and newline separated by space\n",
      "   22 |         self.set_mu(mu); \\\n",
      "      |\n",
      "/home/kyoichi-sugahara/PhD_workspace/autogenu-jupyter/generated/cartpole/../../include/cgmres/python/zero_horizon_ocp_solver.hpp:39:21: warning: backslash and newline separated by space\n",
      "   39 |         ss << self; \\\n",
      "      |\n",
      "[ 71%] Linking CXX shared library zero_horizon_ocp_solver.cpython-310-x86_64-linux-gnu.so\n",
      "[ 71%] Built target zero_horizon_ocp_solver\n",
      "Consolidate compiler generated dependencies of target single_shooting_cgmres_solver\n",
      "[ 78%] Building CXX object python/cartpole/CMakeFiles/single_shooting_cgmres_solver.dir/single_shooting_cgmres_solver.cpp.o\n",
      "In file included from /home/kyoichi-sugahara/PhD_workspace/autogenu-jupyter/generated/cartpole/../../include/cgmres/single_shooting_cgmres_solver.hpp:8,\n",
      "                 from /home/kyoichi-sugahara/PhD_workspace/autogenu-jupyter/generated/cartpole/python/cartpole/single_shooting_cgmres_solver.cpp:10:\n",
      "/home/kyoichi-sugahara/PhD_workspace/autogenu-jupyter/generated/cartpole/../../include/cgmres/types.hpp:6: warning: \"EIGEN_STACK_ALLOCATION_LIMIT\" redefined\n",
      "    6 | #define EIGEN_STACK_ALLOCATION_LIMIT 0 // this macro allows unlimited stack memory to avoid OBJECT_ALLOCATED_ON_STACK_IS_TOO_BIG static_assertion error.\n",
      "      |\n",
      "In file included from /home/kyoichi-sugahara/PhD_workspace/autogenu-jupyter/generated/cartpole/../../include/cgmres/thirdparty/eigen/Eigen/Core:19,\n",
      "                 from /home/kyoichi-sugahara/PhD_workspace/autogenu-jupyter/include/cgmres/thirdparty/pybind11/include/pybind11/eigen.h:32,\n",
      "                 from /home/kyoichi-sugahara/PhD_workspace/autogenu-jupyter/generated/cartpole/python/cartpole/single_shooting_cgmres_solver.cpp:7:\n",
      "/home/kyoichi-sugahara/PhD_workspace/autogenu-jupyter/include/cgmres/thirdparty/eigen/Eigen/src/Core/util/Macros.h:55: note: this is the location of the previous definition\n",
      "   55 | #define EIGEN_STACK_ALLOCATION_LIMIT 131072\n",
      "      |\n",
      "In file included from /home/kyoichi-sugahara/PhD_workspace/autogenu-jupyter/generated/cartpole/python/cartpole/single_shooting_cgmres_solver.cpp:11:\n",
      "/home/kyoichi-sugahara/PhD_workspace/autogenu-jupyter/generated/cartpole/../../include/cgmres/python/single_shooting_cgmres_solver.hpp:1:76: warning: backslash-newline at end of file\n",
      "    1 | #define DEFINE_PYBIND11_MODULE_SINGLE_SHOOTING_CGMRES_SOLVER(OCP, N, KMAX) \\\n",
      "      |\n",
      "/home/kyoichi-sugahara/PhD_workspace/autogenu-jupyter/generated/cartpole/../../include/cgmres/python/single_shooting_cgmres_solver.hpp:5:52: warning: backslash and newline separated by space\n",
      "    5 |     .def(py::init<OCP, Horizon, SolverSettings>(), \\\n",
      "      |\n",
      "/home/kyoichi-sugahara/PhD_workspace/autogenu-jupyter/generated/cartpole/../../include/cgmres/python/single_shooting_cgmres_solver.hpp:7:24: warning: backslash and newline separated by space\n",
      "    7 |     .def(py::init<>()) \\\n",
      "      |\n",
      "/home/kyoichi-sugahara/PhD_workspace/autogenu-jupyter/generated/cartpole/../../include/cgmres/python/single_shooting_cgmres_solver.hpp:13:24: warning: backslash and newline separated by space\n",
      "   13 |         self.set_u(u); \\\n",
      "      |\n",
      "/home/kyoichi-sugahara/PhD_workspace/autogenu-jupyter/generated/cartpole/../../include/cgmres/python/single_shooting_cgmres_solver.hpp:16:26: warning: backslash and newline separated by space\n",
      "   16 |         self.set_uc(uc); \\\n",
      "      |\n",
      "/home/kyoichi-sugahara/PhD_workspace/autogenu-jupyter/generated/cartpole/../../include/cgmres/python/single_shooting_cgmres_solver.hpp:19:36: warning: backslash and newline separated by space\n",
      "   19 |         self.set_u_array(u_array); \\\n",
      "      |\n",
      "/home/kyoichi-sugahara/PhD_workspace/autogenu-jupyter/generated/cartpole/../../include/cgmres/python/single_shooting_cgmres_solver.hpp:22:38: warning: backslash and newline separated by space\n",
      "   22 |         self.set_uc_array(uc_array); \\\n",
      "      |\n",
      "/home/kyoichi-sugahara/PhD_workspace/autogenu-jupyter/generated/cartpole/../../include/cgmres/python/single_shooting_cgmres_solver.hpp:25:44: warning: backslash and newline separated by space\n",
      "   25 |         self.set_dummy_array(dummy_array); \\\n",
      "      |\n",
      "/home/kyoichi-sugahara/PhD_workspace/autogenu-jupyter/generated/cartpole/../../include/cgmres/python/single_shooting_cgmres_solver.hpp:28:38: warning: backslash and newline separated by space\n",
      "   28 |         self.set_mu_array(mu_array); \\\n",
      "      |\n",
      "/home/kyoichi-sugahara/PhD_workspace/autogenu-jupyter/generated/cartpole/../../include/cgmres/python/single_shooting_cgmres_solver.hpp:44:21: warning: backslash and newline separated by space\n",
      "   44 |         ss << self; \\\n",
      "      |\n",
      "[ 85%] Linking CXX shared library single_shooting_cgmres_solver.cpython-310-x86_64-linux-gnu.so\n",
      "[ 85%] Built target single_shooting_cgmres_solver\n",
      "Consolidate compiler generated dependencies of target multiple_shooting_cgmres_solver\n",
      "[ 92%] Building CXX object python/cartpole/CMakeFiles/multiple_shooting_cgmres_solver.dir/multiple_shooting_cgmres_solver.cpp.o\n",
      "In file included from /home/kyoichi-sugahara/PhD_workspace/autogenu-jupyter/generated/cartpole/../../include/cgmres/multiple_shooting_cgmres_solver.hpp:8,\n",
      "                 from /home/kyoichi-sugahara/PhD_workspace/autogenu-jupyter/generated/cartpole/python/cartpole/multiple_shooting_cgmres_solver.cpp:10:\n",
      "/home/kyoichi-sugahara/PhD_workspace/autogenu-jupyter/generated/cartpole/../../include/cgmres/types.hpp:6: warning: \"EIGEN_STACK_ALLOCATION_LIMIT\" redefined\n",
      "    6 | #define EIGEN_STACK_ALLOCATION_LIMIT 0 // this macro allows unlimited stack memory to avoid OBJECT_ALLOCATED_ON_STACK_IS_TOO_BIG static_assertion error.\n",
      "      |\n",
      "In file included from /home/kyoichi-sugahara/PhD_workspace/autogenu-jupyter/generated/cartpole/../../include/cgmres/thirdparty/eigen/Eigen/Core:19,\n",
      "                 from /home/kyoichi-sugahara/PhD_workspace/autogenu-jupyter/include/cgmres/thirdparty/pybind11/include/pybind11/eigen.h:32,\n",
      "                 from /home/kyoichi-sugahara/PhD_workspace/autogenu-jupyter/generated/cartpole/python/cartpole/multiple_shooting_cgmres_solver.cpp:7:\n",
      "/home/kyoichi-sugahara/PhD_workspace/autogenu-jupyter/include/cgmres/thirdparty/eigen/Eigen/src/Core/util/Macros.h:55: note: this is the location of the previous definition\n",
      "   55 | #define EIGEN_STACK_ALLOCATION_LIMIT 131072\n",
      "      |\n",
      "In file included from /home/kyoichi-sugahara/PhD_workspace/autogenu-jupyter/generated/cartpole/python/cartpole/multiple_shooting_cgmres_solver.cpp:11:\n",
      "/home/kyoichi-sugahara/PhD_workspace/autogenu-jupyter/generated/cartpole/../../include/cgmres/python/multiple_shooting_cgmres_solver.hpp:1:78: warning: backslash-newline at end of file\n",
      "    1 | #define DEFINE_PYBIND11_MODULE_MULTIPLE_SHOOTING_CGMRES_SOLVER(OCP, N, KMAX) \\\n",
      "      |\n",
      "/home/kyoichi-sugahara/PhD_workspace/autogenu-jupyter/generated/cartpole/../../include/cgmres/python/multiple_shooting_cgmres_solver.hpp:5:52: warning: backslash and newline separated by space\n",
      "    5 |     .def(py::init<OCP, Horizon, SolverSettings>(), \\\n",
      "      |\n",
      "/home/kyoichi-sugahara/PhD_workspace/autogenu-jupyter/generated/cartpole/../../include/cgmres/python/multiple_shooting_cgmres_solver.hpp:7:24: warning: backslash and newline separated by space\n",
      "    7 |     .def(py::init<>()) \\\n",
      "      |\n",
      "/home/kyoichi-sugahara/PhD_workspace/autogenu-jupyter/generated/cartpole/../../include/cgmres/python/multiple_shooting_cgmres_solver.hpp:13:24: warning: backslash and newline separated by space\n",
      "   13 |         self.set_u(u); \\\n",
      "      |\n",
      "/home/kyoichi-sugahara/PhD_workspace/autogenu-jupyter/generated/cartpole/../../include/cgmres/python/multiple_shooting_cgmres_solver.hpp:16:26: warning: backslash and newline separated by space\n",
      "   16 |         self.set_uc(uc); \\\n",
      "      |\n",
      "/home/kyoichi-sugahara/PhD_workspace/autogenu-jupyter/generated/cartpole/../../include/cgmres/python/multiple_shooting_cgmres_solver.hpp:19:24: warning: backslash and newline separated by space\n",
      "   19 |         self.set_x(x); \\\n",
      "      |\n",
      "/home/kyoichi-sugahara/PhD_workspace/autogenu-jupyter/generated/cartpole/../../include/cgmres/python/multiple_shooting_cgmres_solver.hpp:22:28: warning: backslash and newline separated by space\n",
      "   22 |         self.set_lmd(lmd); \\\n",
      "      |\n",
      "/home/kyoichi-sugahara/PhD_workspace/autogenu-jupyter/generated/cartpole/../../include/cgmres/python/multiple_shooting_cgmres_solver.hpp:25:36: warning: backslash and newline separated by space\n",
      "   25 |         self.set_u_array(u_array); \\\n",
      "      |\n",
      "/home/kyoichi-sugahara/PhD_workspace/autogenu-jupyter/generated/cartpole/../../include/cgmres/python/multiple_shooting_cgmres_solver.hpp:28:38: warning: backslash and newline separated by space\n",
      "   28 |         self.set_uc_array(uc_array); \\\n",
      "      |\n",
      "/home/kyoichi-sugahara/PhD_workspace/autogenu-jupyter/generated/cartpole/../../include/cgmres/python/multiple_shooting_cgmres_solver.hpp:31:36: warning: backslash and newline separated by space\n",
      "   31 |         self.set_x_array(x_array); \\\n",
      "      |\n",
      "/home/kyoichi-sugahara/PhD_workspace/autogenu-jupyter/generated/cartpole/../../include/cgmres/python/multiple_shooting_cgmres_solver.hpp:34:40: warning: backslash and newline separated by space\n",
      "   34 |         self.set_lmd_array(lmd_array); \\\n",
      "      |\n",
      "/home/kyoichi-sugahara/PhD_workspace/autogenu-jupyter/generated/cartpole/../../include/cgmres/python/multiple_shooting_cgmres_solver.hpp:37:44: warning: backslash and newline separated by space\n",
      "   37 |         self.set_dummy_array(dummy_array); \\\n",
      "      |\n",
      "/home/kyoichi-sugahara/PhD_workspace/autogenu-jupyter/generated/cartpole/../../include/cgmres/python/multiple_shooting_cgmres_solver.hpp:40:38: warning: backslash and newline separated by space\n",
      "   40 |         self.set_mu_array(mu_array); \\\n",
      "      |\n",
      "In file included from /home/kyoichi-sugahara/PhD_workspace/autogenu-jupyter/generated/cartpole/python/cartpole/multiple_shooting_cgmres_solver.cpp:11:\n",
      "/home/kyoichi-sugahara/PhD_workspace/autogenu-jupyter/generated/cartpole/../../include/cgmres/python/multiple_shooting_cgmres_solver.hpp:68:21: warning: backslash and newline separated by space\n",
      "   68 |         ss << self; \\\n",
      "      |\n",
      "[100%] Linking CXX shared library multiple_shooting_cgmres_solver.cpython-310-x86_64-linux-gnu.so\n",
      "[100%] Built target multiple_shooting_cgmres_solver\n",
      "\n",
      "\n"
     ]
    }
   ],
   "source": [
    "generator = 'Auto'  \n",
    "vectorize = False\n",
    "remove_build_dir = False\n",
    "ag.generate_python_bindings()\n",
    "ag.git_submodule_update()\n",
    "ag.build_python_interface(generator=generator, vectorize=vectorize, remove_build_dir=remove_build_dir)"
   ]
  },
  {
   "cell_type": "markdown",
   "metadata": {},
   "source": [
    "## Install Python interface\n",
    "\n",
    "- `install_prefix` : Prefix of the install destination of the python interfaces. Default is None.\n",
    "    -  If this is None (default), then it is `~/.local/lib/python3.x` (`python3.x` is your Python version). \n",
    "        - If you use Ubuntu, `~/.local/lib/python3.x` is the default Python path, and you do not need to set `PYTHONPATH` additonally.  \n",
    "        - If you use MacOSX or Windows, add it to the Python PATH, as `export PYTHONPATH=$PYTHONPATH:$HOME/.local/lib/python3.x/site-packages`\n",
    "\n",
    "The usage of Python interfaces is introduced in `examples/python` directory."
   ]
  },
  {
   "cell_type": "code",
   "execution_count": 45,
   "metadata": {},
   "outputs": [
    {
     "name": "stdout",
     "output_type": "stream",
     "text": [
      "Collected Python shared libs:  ['/home/kyoichi-sugahara/PhD_workspace/autogenu-jupyter/generated/cartpole/build/python/cartpole/multiple_shooting_cgmres_solver.cpython-310-x86_64-linux-gnu.so', '/home/kyoichi-sugahara/PhD_workspace/autogenu-jupyter/generated/cartpole/build/python/cartpole/zero_horizon_ocp_solver.cpython-310-x86_64-linux-gnu.so', '/home/kyoichi-sugahara/PhD_workspace/autogenu-jupyter/generated/cartpole/build/python/cartpole/ocp.cpython-310-x86_64-linux-gnu.so', '/home/kyoichi-sugahara/PhD_workspace/autogenu-jupyter/generated/cartpole/build/python/cartpole/single_shooting_cgmres_solver.cpython-310-x86_64-linux-gnu.so']\n",
      "Collected Python common shared libs:  ['/home/kyoichi-sugahara/PhD_workspace/autogenu-jupyter/generated/cartpole/build/python/common/solver_settings.cpython-310-x86_64-linux-gnu.so', '/home/kyoichi-sugahara/PhD_workspace/autogenu-jupyter/generated/cartpole/build/python/common/timer.cpython-310-x86_64-linux-gnu.so', '/home/kyoichi-sugahara/PhD_workspace/autogenu-jupyter/generated/cartpole/build/python/common/horizon.cpython-310-x86_64-linux-gnu.so']\n",
      "Collected Python files:  ['/home/kyoichi-sugahara/PhD_workspace/autogenu-jupyter/generated/cartpole/python/cartpole/__init__.py']\n",
      "Collected Python common files:  ['/home/kyoichi-sugahara/PhD_workspace/autogenu-jupyter/generated/cartpole/python/common/__init__.py']\n",
      "\n",
      "Python interfaces have been installed at /home/kyoichi-sugahara/.local/lib/python3.10/site-packages\n",
      "To use Python interfaces, run \n",
      "\n",
      "    export PYTHONPATH=$PYTHONPATH:/home/kyoichi-sugahara/.local/lib/python3.10/site-packages\n",
      "\n",
      "in the terminal to recognize the PYTHONPATH temporary.\n",
      "Or set the PATH in Ubuntu as\n",
      "\n",
      "    echo export PYTHONPATH=$PYTHONPATH:/home/kyoichi-sugahara/.local/lib/python3.10/site-packages >> ~/.bashrc\n",
      "\n",
      "or in Mac OSX as\n",
      "\n",
      "    echo export PYTHONPATH=$PYTHONPATH:/home/kyoichi-sugahara/.local/lib/python3.10/site-packages >> ~/.zshrc\n",
      "\n"
     ]
    }
   ],
   "source": [
    "ag.install_python_interface(install_prefix=None)"
   ]
  },
  {
   "cell_type": "markdown",
   "metadata": {},
   "source": [
    "## Generate Documentation\n",
    "The documentations for the generated code are available.  \n",
    "`Doxygen` is required for the docs generation."
   ]
  },
  {
   "cell_type": "code",
   "execution_count": 46,
   "metadata": {},
   "outputs": [],
   "source": [
    "autogenu.generate_docs()\n",
    "autogenu.open_docs()"
   ]
  }
 ],
 "metadata": {
  "kernelspec": {
   "display_name": "Python 3",
   "language": "python",
   "name": "python3"
  },
  "language_info": {
   "codemirror_mode": {
    "name": "ipython",
    "version": 3
   },
   "file_extension": ".py",
   "mimetype": "text/x-python",
   "name": "python",
   "nbconvert_exporter": "python",
   "pygments_lexer": "ipython3",
   "version": "3.10.6"
  },
  "toc": {
   "base_numbering": 1,
   "nav_menu": {},
   "number_sections": true,
   "sideBar": true,
   "skip_h1_title": false,
   "title_cell": "Table of Contents",
   "title_sidebar": "Contents",
   "toc_cell": false,
   "toc_position": {},
   "toc_section_display": true,
   "toc_window_display": false
  },
  "vscode": {
   "interpreter": {
    "hash": "916dbcbb3f70747c44a77c7bcd40155683ae19c65e1c03b4aa3499c5328201f1"
   }
  }
 },
 "nbformat": 4,
 "nbformat_minor": 4
}
