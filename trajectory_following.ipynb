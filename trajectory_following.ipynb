{
 "cells": [
  {
   "cell_type": "markdown",
   "metadata": {},
   "source": [
    "# AutoGenU for Jupyter\n",
    "\n",
    "An Automatic C++ Code Generator for Nonlinear Model Predictive Control (NMPC)\n",
    "\n",
    "---\n"
   ]
  },
  {
   "cell_type": "markdown",
   "metadata": {},
   "source": [
    "## Formulation of the trajectory following problem: Ackermann Steering Geometry\n"
   ]
  },
  {
   "cell_type": "markdown",
   "metadata": {},
   "source": [
    "### Model description\n",
    "\n",
    "<div style=\"background-color:white;\">\n",
    "    <img src=\"./vehicle_error_kinematics.drawio.svg\" width=80%>\n",
    "</div>\n",
    "\n",
    "The above figure shows the model of a cart pole. By the Lagrange's method, the equation of the motion is derived as\n",
    "\n",
    "\\begin{align}\\frac{dy}{dt} &= v \\sin \\theta \\\\\n",
    "\\frac{d\\theta}{dt} &= \\frac{v \\tan \\delta}{L} - \\kappa*r v \\cos \\theta \\\\\n",
    "\\frac{d\\delta}{dt} &= -\\frac{1}{\\tau} (\\delta - \\delta*{des})\\end{align}\n",
    "\n",
    "We also assume that the input of the cartpole is limited as  \n",
    "$$u_{\\rm min} \\leq u \\leq u_{\\rm max} , $$\n",
    "where $u_{\\rm min}, u_{\\rm max} \\in \\mathbb{R}$.\n",
    "\n",
    "---\n",
    "\n",
    "### Formulation of the optimal control problem\n",
    "\n",
    "We define the state vector as\n",
    "$$ x = \\begin{bmatrix} y \\\\ \\theta \\\\ \\delta \\end{bmatrix} .$$\n",
    "\n",
    "The state equation is then given as\n",
    "\n",
    "$$\n",
    "\\dot{x} = f(t, x, u) = \\begin{bmatrix}\n",
    "v \\sin \\theta \\\\\n",
    "\\frac{v \\tan \\delta}{L} - \\kappa_r v \\cos \\theta \\\\\n",
    "-\\frac{1}{\\tau} (\\delta - \\delta_{\\text{des}})\n",
    "\\end{bmatrix}.\n",
    "$$\n",
    "\n",
    "Next, we set the cost function\n",
    "$$ J = \\varphi(t, x) + \\int\\_{t}^{t+T} L(t, x, u) .$$\n",
    "\n",
    "The objective is to invert the pole and stabilize the cart around $y=0$. In other words, we want to converge the state of the cart pole to\n",
    "$$x_{\\rm ref} := \\begin{bmatrix} 0 \\\\ 0 \\\\ \\delta_r \\end{bmatrix}.$$  \n",
    "To achieve this goal, we set the terminal cost as\n",
    "$$\\varphi(t,x) = \\frac{1}{2} (x - x_{\\rm ref})^{\\rm T} Q_{\\rm terminal} (x - x_{\\rm ref}) ,$$  \n",
    "where $Q_{\\rm terminal} = {\\rm diag}\\left\\{ {q_{\\rm terminal}}_1, {q_{\\rm terminal}}_2, {q_{\\rm terminal}}_3, {q_{\\rm terminal}}_4 \\right\\}$ and ${q_{\\rm terminal}}_1, {q_{\\rm terminal}}_2, {q_{\\rm terminal}}_3, {q_{\\rm terminal}}_4$ are positive real constants. We also set the stage cost as  \n",
    "$$L(t, x, u) = \\frac{1}{2} (x - x_{\\rm ref})^{\\rm T} Q (x - x_{\\rm ref}) + \\frac{1}{2} r u^2,$$  \n",
    "where $Q = {\\rm diag} \\left\\{ q_1, q_2, q_3 \\right\\}$ with positive real constants $q_1, q_2, q_3, $r$ is positive real constant.\n"
   ]
  },
  {
   "cell_type": "markdown",
   "metadata": {},
   "source": [
    "---\n",
    "\n",
    "# Generate C++ code for optimal control problem (OCP)\n"
   ]
  },
  {
   "cell_type": "markdown",
   "metadata": {},
   "source": [
    "## Import module\n"
   ]
  },
  {
   "cell_type": "code",
   "execution_count": null,
   "metadata": {},
   "outputs": [],
   "source": [
    "import autogenu"
   ]
  },
  {
   "cell_type": "markdown",
   "metadata": {},
   "source": [
    "## Set dimensions and define `AutoGenU`\n",
    "\n",
    "- `nx`: Dimension of the state vector $x$\n",
    "- `nu`: Dimension of the control input vector $u$\n",
    "- `ocp_name`: Name of the optimal control problem (OCP). Used as the name of the directory containing the generated C++ source files.\n"
   ]
  },
  {
   "cell_type": "code",
   "execution_count": null,
   "metadata": {},
   "outputs": [],
   "source": [
    "nx = 3\n",
    "nu = 1\n",
    "ocp_name = \"trajectory_following\"\n",
    "ag = autogenu.AutoGenU(ocp_name, nx, nu)"
   ]
  },
  {
   "cell_type": "markdown",
   "metadata": {},
   "source": []
  },
  {
   "cell_type": "markdown",
   "metadata": {},
   "source": [
    "## Generate t, x, and u, necessary variables to formulate of the optimal control problem\n",
    "\n",
    "- `t`: Time parameter $t$\n",
    "- `x`: The state vector $x$\n",
    "- `u`: The control input vector $u$\n"
   ]
  },
  {
   "cell_type": "code",
   "execution_count": null,
   "metadata": {},
   "outputs": [],
   "source": [
    "t = ag.define_t()\n",
    "x = ag.define_x()\n",
    "u = ag.define_u()"
   ]
  },
  {
   "cell_type": "markdown",
   "metadata": {},
   "source": [
    "## Define variables used in the state equation, constraints, and cost function\n",
    "\n",
    "- Define a scalar variable whose name is \"var\" as  \n",
    "  `var = ag.define_scalar_var('var') `\n",
    "\n",
    "- Define scalar variables whose names are \"var_1\", \"var_2\", ..., \"var_n\" as  \n",
    "  `var_1, var_2, ..., var_n = ag.define_scalar_vars('var_1', 'var_2', ..., 'var_n')`\n",
    "\n",
    "- Define array variables whose name is \"vec\" and dimension is dim_vec as  \n",
    "  `vec = ag.define_array_var('vec', dim_vec)`\n"
   ]
  },
  {
   "cell_type": "markdown",
   "metadata": {},
   "source": []
  },
  {
   "cell_type": "code",
   "execution_count": null,
   "metadata": {},
   "outputs": [],
   "source": [
    "\"\"\"\n",
    "This code defines scalar variables that are used in the state function.\n",
    "The variables are defined as follows:\n",
    "- v_in_reference_trajectory: velocity along the reference trajectory\n",
    "- curvature_in_reference_trajectory: curvature of the reference trajectory\n",
    "- smoothed_curvature_in_reference_trajectory: smoothed curvature of the reference trajectory\n",
    "- wheel_base: between front wheel center and rear wheel center [m]\n",
    "- τ: steering dynamics time constant (1d approximation) [s]\n",
    "- δdes: acceleration due to gravity\n",
    "\"\"\"\n",
    "\n",
    "(\n",
    "    v_in_reference_trajectory,\n",
    "    curvature_in_reference_trajectory,\n",
    "    smoothed_curvature_in_reference_trajectory,\n",
    "    wheel_base,\n",
    "    τ,\n",
    ") = ag.define_scalar_vars(\n",
    "    \"v_in_reference_trajectory\",\n",
    "    \"curvature_in_reference_trajectory\",\n",
    "    \"smoothed_curvature_in_reference_trajectory\",\n",
    "    \"wheel_base\",\n",
    "    \"τ\",\n",
    ")\n",
    "\n",
    "\n",
    "# Variables used in the cost function\n",
    "# Define the variable q as an array of size nx\n",
    "q = ag.define_array_var(\"q\", nx)\n",
    "# Define the variable q_terminal as an array of size nx\n",
    "q_terminal = ag.define_array_var(\"q_terminal\", nx)\n",
    "# Define the variable x_ref as an array of size nx\n",
    "x_ref = ag.define_array_var(\"x_ref\", nx)\n",
    "# Define the variable u_ref as an array of size nu\n",
    "u_ref = ag.define_array_var(\"u_ref\", nu)\n",
    "# Define the variable r as an array of size nu\n",
    "r = ag.define_array_var(\"r\", nu)"
   ]
  },
  {
   "cell_type": "markdown",
   "metadata": {},
   "source": [
    "## Define the state equation, constraints, the stage cost, and the terminal cost\n",
    "\n",
    "- `f`: The state equation $ f(t, x, u)$\n",
    "- `C`: The equality constraints $C(t, x, u) = 0 $\n",
    "- `h`: The inequality constraints $h(t, x, u) \\leq 0$ considered by semi-smooth Fischer-Burumeister method\n",
    "- `L`: The stage cost $L(t, x, u)$\n",
    "- `phi`: The terminal cost $\\phi (t, x)$\n",
    "\n",
    "Note: array indices start with 0\n"
   ]
  },
  {
   "cell_type": "code",
   "execution_count": null,
   "metadata": {},
   "outputs": [],
   "source": [
    "# Import symbolic math from sympy. If you need more functions, import same as below.\n",
    "from sympy import sin, cos, tan, exp, log, sinh, cosh, tanh, atan, diff, sqrt"
   ]
  },
  {
   "cell_type": "code",
   "execution_count": null,
   "metadata": {},
   "outputs": [],
   "source": [
    "# Define the state equation\n",
    "f = [\n",
    "    v_in_reference_trajectory * sin(x[1]),\n",
    "    v_in_reference_trajectory * tan(x[2]) / wheel_base\n",
    "    - curvature_in_reference_trajectory * v_in_reference_trajectory * cos(x[1]),\n",
    "    -1 / τ * (x[2] - u[0]),\n",
    "]\n",
    "\n",
    "# Define the constraints\n",
    "C = []\n",
    "\n",
    "# Define the inequality constraints considered using the semi-smooth Fischer-Burmeister method\n",
    "h = []\n",
    "\n",
    "# Define the stage cost\n",
    "L = (\n",
    "    sum(q[i] * (x[i] - x_ref[i]) ** 2 for i in range(nx)) / 2\n",
    "    + (r[0] * (u[0] - u_ref[0]) ** 2) / 2\n",
    ")\n",
    "\n",
    "# Define the terminal cost\n",
    "phi = sum(q_terminal[i] * (x[i] - x_ref[i]) ** 2 for i in range(nx)) / 2"
   ]
  },
  {
   "cell_type": "code",
   "execution_count": null,
   "metadata": {},
   "outputs": [],
   "source": [
    "# Set functions\n",
    "ag.set_functions(f, C, h, L, phi)"
   ]
  },
  {
   "cell_type": "markdown",
   "metadata": {},
   "source": [
    "## Define the control input bound constraints\n",
    "\n",
    "The box constraints on the control input $u_{\\rm min} \\leq u \\leq u_{\\rm max}$ are treated in a special manner.\n",
    "Specifically, it is transformed into $$u^2 + u_{\\rm dummy}^2 - (\\frac{u_{\\rm max} - u_{\\rm min}}{2})^2 = 0$$.  \n",
    "Further, $u_{\\rm dummy}$ and associated Lagrange multiplier are eliminated in Newton-type iteration efficiently in the multiple-shooting solver.  \n",
    "Set such box constraints by specifying\n",
    "\n",
    "- `uindex`: index of the constrained control input element\n",
    "- `umin`: Minimum value (lower bound) of the control input element\n",
    "- `umax`: Maximum value (upper bound) of the control input element\n",
    "- `dummy_weight`: Weight parameter of the dummy (slack) variable\n"
   ]
  },
  {
   "cell_type": "code",
   "execution_count": null,
   "metadata": {},
   "outputs": [],
   "source": [
    "ag.add_control_input_bounds(uindex=0, umin=-15.0, umax=15.0, dummy_weight=0.1)"
   ]
  },
  {
   "cell_type": "markdown",
   "metadata": {},
   "source": [
    "## Set Parameters\n",
    "\n",
    "Set values for all parameters you defined.\n",
    "\n",
    "- Set `value` for a scalar variable whose name is \"var\" as  \n",
    "  `ag.set_scalar_var('var', value) `\n",
    "\n",
    "- Set `value_1`, `value_2`, ..., `value_n`, for scalar variables whose names are \"var_1\", \"var_2\", ..., \"var_n\" as  \n",
    "  `ag.set_scalar_vars(['var_1', value_1], ['var_2', value_2], ..., ['var_n', value_n])`\n",
    "\n",
    "- Set array variables `var_1`, `var_2`, ..., `var_n` whose name is \"vec\" and dimension is n as  \n",
    "  `ag.define_array_var('vec', [var_1, var_2, ..., var_n])`\n"
   ]
  },
  {
   "cell_type": "code",
   "execution_count": null,
   "metadata": {},
   "outputs": [],
   "source": [
    "ag.set_scalar_vars(\n",
    "    [\"v_in_reference_trajectory\", 1.0],\n",
    "    [\"curvature_in_reference_trajectory\", -0.5],\n",
    "    [\"smoothed_curvature_in_reference_trajectory\", -0.5],\n",
    "    [\"wheel_base\", 2.79],\n",
    "    [\"τ\", 0.3],\n",
    ")\n",
    "ag.set_array_var(\"q\", [1.0, 0.1, 0.00])\n",
    "ag.set_array_var(\"r\", [0.2])\n",
    "ag.set_array_var(\"q_terminal\", [1.0, 0.1, 0.00])\n",
    "ag.set_array_var(\"x_ref\", [0, 0, 0])\n",
    "ag.set_array_var(\n",
    "    \"u_ref\", [atan(2.79 * -0.5)]\n",
    ")  # arctan(L*curvature_in_reference_trajectory)\n",
    "print(atan(2.79 * -0.5))"
   ]
  },
  {
   "cell_type": "markdown",
   "metadata": {},
   "source": [
    "## Generate C++ codes of the definition of the optimal control problem\n",
    "\n",
    "Generate `ocp.hpp` that defines the optimal control problem (OCP).\n",
    "\n",
    "- `simplification`: The flag for simplification. If `True`, symbolic functions are simplified. However, if functions are too complicated, it takes too much time. Default is `False`.\n",
    "- `common_subexpression_elimination`: The flag for common subexpression elimination. If `True`, common subexpressions in fxu, phix, hx, and hu are eliminated when `ocp.hpp` is generated. Default is `False`.\n"
   ]
  },
  {
   "cell_type": "code",
   "execution_count": null,
   "metadata": {},
   "outputs": [],
   "source": [
    "simplification = False\n",
    "common_subexpression_elimination = True\n",
    "\n",
    "ag.generate_ocp_definition(simplification, common_subexpression_elimination)"
   ]
  },
  {
   "cell_type": "markdown",
   "metadata": {},
   "source": [
    "---\n",
    "\n",
    "# Generate C++ codes of NMPC solver and numerical simulation\n"
   ]
  },
  {
   "cell_type": "markdown",
   "metadata": {},
   "source": [
    "## Set NLP type\n",
    "\n",
    "Set which NLP formulation you use. (hint: `MultipleShooting` works better for typical nonlinear problems.)\n",
    "\n",
    "- `MultipleShooting` (recommended) : The multiple shooting based C/GMRES method with condensing of the state and the Lagrange multipliers with respect to the state equation.\n",
    "- `SingleShooting` : The single shooting method, i.e., the original C/GMRES method.\n"
   ]
  },
  {
   "cell_type": "code",
   "execution_count": null,
   "metadata": {
    "scrolled": true
   },
   "outputs": [],
   "source": [
    "nlp_type = autogenu.NLPType.SingleShooting\n",
    "ag.set_nlp_type(nlp_type)"
   ]
  },
  {
   "cell_type": "markdown",
   "metadata": {},
   "source": [
    "## Set horizon length\n",
    "\n",
    "- `Tf`, `alpha`: Parameters for the length of the horizon. If $\\alpha > 0$, time-varying horizon length $T(t) = T_f (1 - e^{-\\alpha t})$ is used. Otherwise, $T(t)$ is fixed by $T_f$.\n"
   ]
  },
  {
   "cell_type": "code",
   "execution_count": null,
   "metadata": {},
   "outputs": [],
   "source": [
    "Tf = 0.1\n",
    "alpha = 0.0\n",
    "\n",
    "ag.set_horizon_params(Tf, alpha)"
   ]
  },
  {
   "cell_type": "markdown",
   "metadata": {},
   "source": [
    "## Set parameters for the C/GMRES method\n",
    "\n",
    "- `sampling_time`: Sampling period.\n",
    "- `N`: The number of the discretization grids of the horizon.\n",
    "- `finite_difference_epsilon`: Step length of a finite difference approximations of hessian-vector products in C/GMRES.\n",
    "- `zeta`: A stabilization parameter of the C/GMRES method. Basically, must be set by the reciprocal of the sampling time.\n",
    "- `kmax`: The maximum number of the iteration of the GMRES.\n"
   ]
  },
  {
   "cell_type": "code",
   "execution_count": null,
   "metadata": {
    "code_folding": []
   },
   "outputs": [],
   "source": [
    "sampling_time = 0.03\n",
    "N = 50\n",
    "finite_difference_epsilon = 1.0e-08\n",
    "zeta = 33.3\n",
    "kmax = 5\n",
    "\n",
    "ag.set_solver_params(sampling_time, N, finite_difference_epsilon, zeta, kmax)"
   ]
  },
  {
   "cell_type": "markdown",
   "metadata": {},
   "source": [
    "## Set parameters for the initialization of the solution\n",
    "\n",
    "- `solution_initial_guess`: The initial guess of the solution of the optimal control problem (OCP) for initialization of the solution of NMPC.\n",
    "- `tolerance`: The residual tolerance of the solution of the OCP for the initialization of the solution of NMPC. The Newton iteration terminates when the optimality error is less than this value.\n",
    "- `max_iterations`: The maximum number of Newton iteration for the initialization of the solution of NMPC.\n"
   ]
  },
  {
   "cell_type": "code",
   "execution_count": null,
   "metadata": {},
   "outputs": [],
   "source": [
    "solution_initial_guess = [0.00]\n",
    "tolerance = 1.0e-06\n",
    "max_iterations = 50\n",
    "\n",
    "ag.set_initialization_params(solution_initial_guess, tolerance, max_iterations)"
   ]
  },
  {
   "cell_type": "markdown",
   "metadata": {},
   "source": [
    "## Set parameters for numerical simulation\n",
    "\n",
    "- `initial_time`: Initial time of the numerical simulation.\n",
    "- `initial_state`: Initial state vector of the system.\n",
    "- `simulation_length`: Simulation length.\n"
   ]
  },
  {
   "cell_type": "code",
   "execution_count": null,
   "metadata": {},
   "outputs": [],
   "source": [
    "initial_time = 0\n",
    "initial_state = [0, 0, 0]\n",
    "simulation_length = 1\n",
    "\n",
    "ag.set_simulation_params(initial_time, initial_state, simulation_length)"
   ]
  },
  {
   "cell_type": "markdown",
   "metadata": {},
   "source": [
    "## Generate main.cpp and CMakeLists.txt\n"
   ]
  },
  {
   "cell_type": "code",
   "execution_count": null,
   "metadata": {
    "scrolled": true
   },
   "outputs": [],
   "source": [
    "ag.generate_main()\n",
    "ag.generate_cmake()"
   ]
  },
  {
   "cell_type": "markdown",
   "metadata": {},
   "source": [
    "## Build and run simulation\n",
    "\n",
    "- `generator`: An optional variable for Windows user to choose the generator of CMake. If 'MSYS', then 'MSYS Makefiles' is used. If 'MinGW', then 'MinGW Makefiles' is used. The default value is 'Auto' and the generator is selected automatically. If sh.exe exists in your PATH, MSYS is chosen, and otherwise MinGW is used.\n",
    "- `vectorize` : If `True`, the vectorization, i.e., `-march=native` compile option is enabled. This can improve speed while can cause numerical issue depending on the compiler.\n",
    "- `remove_build_dir`: If `True`, the existing build directory is removed. If `False`, the build directory is not removed. Need to be set `True` if you change the generator. Default is `False`.\n"
   ]
  },
  {
   "cell_type": "code",
   "execution_count": null,
   "metadata": {},
   "outputs": [],
   "source": [
    "generator = \"Auto\"\n",
    "vectorize = False\n",
    "remove_build_dir = False\n",
    "ag.git_submodule_update()\n",
    "ag.build_main(\n",
    "    generator=generator, vectorize=vectorize, remove_build_dir=remove_build_dir\n",
    ")\n",
    "ag.run_simulation()"
   ]
  },
  {
   "cell_type": "markdown",
   "metadata": {},
   "source": [
    "## Plot the simulation results\n"
   ]
  },
  {
   "cell_type": "code",
   "execution_count": null,
   "metadata": {},
   "outputs": [],
   "source": [
    "%matplotlib inline"
   ]
  },
  {
   "cell_type": "code",
   "execution_count": null,
   "metadata": {},
   "outputs": [],
   "source": [
    "plotter = autogenu.Plotter(log_dir=ag.get_ocp_log_dir(), log_name=ag.get_ocp_name())\n",
    "plotter.set_scales(2, 5, 2)\n",
    "# plotter.show()\n",
    "plotter.save()"
   ]
  },
  {
   "cell_type": "markdown",
   "metadata": {},
   "source": [
    "## Draw animations of the simulation results\n"
   ]
  },
  {
   "cell_type": "code",
   "execution_count": null,
   "metadata": {},
   "outputs": [],
   "source": [
    "anim = autogenu.TrajectoryFollowing(\n",
    "    log_dir=ag.get_ocp_log_dir(), log_name=ag.get_ocp_name()\n",
    ")\n",
    "anim.set_skip_frames(10)\n",
    "anim.generate_animation()"
   ]
  },
  {
   "cell_type": "markdown",
   "metadata": {},
   "source": [
    "## Build Python interface\n",
    "\n",
    "- `generator`: An optional variable for Windows user to choose the generator of CMake. If 'MSYS', then 'MSYS Makefiles' is used. If 'MinGW', then 'MinGW Makefiles' is used. The default value is 'Auto' and the generator is selected automatically. If sh.exe exists in your PATH, MSYS is chosen, and otherwise MinGW is used.\n",
    "- `vectorize` : If `True`, the vectorization, i.e., `-march=native` compile option is enabled. This can improve speed while can cause numerical issue depending on the compiler.\n",
    "- `remove_build_dir`: If `True`, the existing build directory is removed. If `False`, the build directory is not removed. Need to be set `True` if you change the generator. Default is `False`.\n"
   ]
  },
  {
   "cell_type": "code",
   "execution_count": null,
   "metadata": {},
   "outputs": [],
   "source": [
    "generator = \"Auto\"\n",
    "vectorize = False\n",
    "remove_build_dir = False\n",
    "ag.generate_python_bindings()\n",
    "ag.git_submodule_update()\n",
    "ag.build_python_interface(\n",
    "    generator=generator, vectorize=vectorize, remove_build_dir=remove_build_dir\n",
    ")"
   ]
  },
  {
   "cell_type": "markdown",
   "metadata": {},
   "source": [
    "## Install Python interface\n",
    "\n",
    "- `install_prefix` : Prefix of the install destination of the python interfaces. Default is None.\n",
    "  - If this is None (default), then it is `~/.local/lib/python3.x` (`python3.x` is your Python version).\n",
    "    - If you use Ubuntu, `~/.local/lib/python3.x` is the default Python path, and you do not need to set `PYTHONPATH` additonally.\n",
    "    - If you use MacOSX or Windows, add it to the Python PATH, as `export PYTHONPATH=$PYTHONPATH:$HOME/.local/lib/python3.x/site-packages`\n",
    "\n",
    "The usage of Python interfaces is introduced in `examples/python` directory.\n"
   ]
  },
  {
   "cell_type": "code",
   "execution_count": null,
   "metadata": {},
   "outputs": [],
   "source": [
    "ag.install_python_interface(install_prefix=None)"
   ]
  },
  {
   "cell_type": "markdown",
   "metadata": {},
   "source": [
    "## Generate Documentation\n",
    "\n",
    "The documentations for the generated code are available.  \n",
    "`Doxygen` is required for the docs generation.\n"
   ]
  },
  {
   "cell_type": "code",
   "execution_count": null,
   "metadata": {},
   "outputs": [],
   "source": [
    "# autogenu.generate_docs()\n",
    "# autogenu.open_docs()"
   ]
  }
 ],
 "metadata": {
  "kernelspec": {
   "display_name": "Python 3",
   "language": "python",
   "name": "python3"
  },
  "language_info": {
   "codemirror_mode": {
    "name": "ipython",
    "version": 3
   },
   "file_extension": ".py",
   "mimetype": "text/x-python",
   "name": "python",
   "nbconvert_exporter": "python",
   "pygments_lexer": "ipython3",
   "version": "3.10.12"
  },
  "toc": {
   "base_numbering": 1,
   "nav_menu": {},
   "number_sections": true,
   "sideBar": true,
   "skip_h1_title": false,
   "title_cell": "Table of Contents",
   "title_sidebar": "Contents",
   "toc_cell": false,
   "toc_position": {},
   "toc_section_display": true,
   "toc_window_display": false
  },
  "vscode": {
   "interpreter": {
    "hash": "916dbcbb3f70747c44a77c7bcd40155683ae19c65e1c03b4aa3499c5328201f1"
   }
  }
 },
 "nbformat": 4,
 "nbformat_minor": 4
}
